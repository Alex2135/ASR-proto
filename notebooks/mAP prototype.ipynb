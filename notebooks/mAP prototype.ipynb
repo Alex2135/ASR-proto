{
 "cells": [
  {
   "cell_type": "code",
   "execution_count": 79,
   "id": "8e054456-0ad6-4f0e-88f8-02cfa349fcaa",
   "metadata": {},
   "outputs": [],
   "source": [
    "import torch\n",
    "import pandas as pd\n",
    "import torchnet.meter as meter"
   ]
  },
  {
   "cell_type": "code",
   "execution_count": 80,
   "id": "257b076a-1934-4b58-b087-ee55546862de",
   "metadata": {},
   "outputs": [
    {
     "name": "stdout",
     "output_type": "stream",
     "text": [
      "tensor([[[ 1.8658,  0.6406, -0.2956],\n",
      "         [ 0.6231, -0.9295, -0.5654]]])\n",
      "mask before\n",
      " tensor([[[0.1146, 0.9249, 0.8732],\n",
      "         [0.0015, 0.7906, 0.1957]]])\n",
      "mask after\n",
      " tensor([[[0, 1, 1],\n",
      "         [0, 1, 0]]])\n",
      "tensor([[[ 0.0000,  0.6406, -0.2956],\n",
      "         [ 0.0000, -0.9295, -0.0000]]])\n"
     ]
    }
   ],
   "source": [
    "X1 = torch.randn((1, 2, 3))\n",
    "print(X1)\n",
    "percent = 0.25\n",
    "mask = torch.rand((1, 2, 3))\n",
    "print(\"mask before\\n\", mask)\n",
    "mask = (mask > percent).long()\n",
    "print(\"mask after\\n\", mask)\n",
    "print(X1 * mask)"
   ]
  },
  {
   "cell_type": "code",
   "execution_count": null,
   "id": "7bb94803-982b-43b2-8790-ee4f0a73d833",
   "metadata": {},
   "outputs": [],
   "source": []
  }
 ],
 "metadata": {
  "kernelspec": {
   "display_name": "Python 3 (ipykernel)",
   "language": "python",
   "name": "python3"
  },
  "language_info": {
   "codemirror_mode": {
    "name": "ipython",
    "version": 3
   },
   "file_extension": ".py",
   "mimetype": "text/x-python",
   "name": "python",
   "nbconvert_exporter": "python",
   "pygments_lexer": "ipython3",
   "version": "3.9.2"
  }
 },
 "nbformat": 4,
 "nbformat_minor": 5
}
