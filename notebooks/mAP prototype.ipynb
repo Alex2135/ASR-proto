{
 "cells": [
  {
   "cell_type": "code",
   "execution_count": 13,
   "id": "8e054456-0ad6-4f0e-88f8-02cfa349fcaa",
   "metadata": {},
   "outputs": [],
   "source": [
    "import torch\n",
    "import pandas as pd\n",
    "from torchnet.meter import APMeter"
   ]
  },
  {
   "cell_type": "code",
   "execution_count": 18,
   "id": "d3813ea6-bb0c-4427-936d-9efb4d3c3ae5",
   "metadata": {},
   "outputs": [
    {
     "name": "stdout",
     "output_type": "stream",
     "text": [
      "Tensors\n",
      "tensor([0., 0., 1., 0., 1.])\n",
      "tensor([1., 0., 1., 0., 1.])\n"
     ]
    },
    {
     "data": {
      "text/plain": [
       "tensor([0.5833])"
      ]
     },
     "execution_count": 18,
     "metadata": {},
     "output_type": "execute_result"
    }
   ],
   "source": [
    "y = torch.Tensor([0, 0, 1, 0, 1])\n",
    "y_hat = torch.Tensor([1, 0, 1, 0, 1])\n",
    "\n",
    "print(\"Tensors\")\n",
    "print(y, y_hat, sep=\"\\n\")\n",
    "\n",
    "meter = APMeter()\n",
    "meter.add(y_hat, y)\n",
    "meter.value()"
   ]
  },
  {
   "cell_type": "code",
   "execution_count": 9,
   "id": "257b076a-1934-4b58-b087-ee55546862de",
   "metadata": {},
   "outputs": [
    {
     "data": {
      "text/plain": [
       "['__abstractmethods__',\n",
       " '__add__',\n",
       " '__annotations__',\n",
       " '__class__',\n",
       " '__delattr__',\n",
       " '__dict__',\n",
       " '__dir__',\n",
       " '__doc__',\n",
       " '__eq__',\n",
       " '__floordiv__',\n",
       " '__format__',\n",
       " '__ge__',\n",
       " '__getattr__',\n",
       " '__getattribute__',\n",
       " '__getitem__',\n",
       " '__getstate__',\n",
       " '__gt__',\n",
       " '__hash__',\n",
       " '__init__',\n",
       " '__init_subclass__',\n",
       " '__le__',\n",
       " '__lt__',\n",
       " '__mod__',\n",
       " '__module__',\n",
       " '__mul__',\n",
       " '__ne__',\n",
       " '__new__',\n",
       " '__pow__',\n",
       " '__radd__',\n",
       " '__reduce__',\n",
       " '__reduce_ex__',\n",
       " '__repr__',\n",
       " '__rmul__',\n",
       " '__rpow__',\n",
       " '__rsub__',\n",
       " '__rtruediv__',\n",
       " '__setattr__',\n",
       " '__setstate__',\n",
       " '__sizeof__',\n",
       " '__str__',\n",
       " '__sub__',\n",
       " '__subclasshook__',\n",
       " '__truediv__',\n",
       " '__weakref__',\n",
       " '_abc_impl',\n",
       " '_check_shape',\n",
       " '_check_usage',\n",
       " '_required_output_keys',\n",
       " 'attach',\n",
       " 'completed',\n",
       " 'compute',\n",
       " 'detach',\n",
       " 'is_attached',\n",
       " 'iteration_completed',\n",
       " 'normalize',\n",
       " 'required_output_keys',\n",
       " 'reset',\n",
       " 'started',\n",
       " 'update']"
      ]
     },
     "execution_count": 9,
     "metadata": {},
     "output_type": "execute_result"
    }
   ],
   "source": [
    "dir(ConfusionMatrix)"
   ]
  },
  {
   "cell_type": "code",
   "execution_count": null,
   "id": "7bb94803-982b-43b2-8790-ee4f0a73d833",
   "metadata": {},
   "outputs": [],
   "source": []
  }
 ],
 "metadata": {
  "kernelspec": {
   "display_name": "Python 3 (ipykernel)",
   "language": "python",
   "name": "python3"
  },
  "language_info": {
   "codemirror_mode": {
    "name": "ipython",
    "version": 3
   },
   "file_extension": ".py",
   "mimetype": "text/x-python",
   "name": "python",
   "nbconvert_exporter": "python",
   "pygments_lexer": "ipython3",
   "version": "3.9.2"
  }
 },
 "nbformat": 4,
 "nbformat_minor": 5
}
