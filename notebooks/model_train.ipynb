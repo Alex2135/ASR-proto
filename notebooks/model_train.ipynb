{
 "cells": [
  {
   "cell_type": "code",
   "execution_count": 1,
   "id": "e632c1a4-71d0-4f2a-8058-363ecb2dae01",
   "metadata": {},
   "outputs": [],
   "source": [
    "import sys\n",
    "sys.path.insert(0,'..')\n",
    "\n",
    "import torch\n",
    "import torch.nn as nn\n",
    "from torch.utils.data import DataLoader\n",
    "\n",
    "from model import Conformer as con\n",
    "from data_processing import ukr_lang_chars_handle\n",
    "from data_processing import CommonVoiceUkr\n",
    "from model.conformer import Conformer as con\n",
    "\n",
    "from config import *"
   ]
  },
  {
   "cell_type": "code",
   "execution_count": 2,
   "id": "230cc976-c2c4-4f64-8680-8dd486f717a8",
   "metadata": {},
   "outputs": [
    {
     "name": "stdout",
     "output_type": "stream",
     "text": [
      "torch.Size([4])\n",
      "input lengths: tensor([256, 256, 256, 256])\n",
      "torch.Size([4])\n",
      "target lengths: tensor([152, 152, 152, 152])\n"
     ]
    }
   ],
   "source": [
    "tgt_n = 152\n",
    "target = torch.randn(BATCH_SIZE, tgt_n) # (N, S) where N =batch size and S = max target length \n",
    "\n",
    "outputs = torch.randn(BATCH_SIZE, 1, 256, 38) # Tensor of size (T, N, C), where T = input length, N = batch size, and C = number of classes (including blank)\n",
    "b, cnls, t, clss = outputs.shape\n",
    "outputs = outputs.view(t*cnls, b, clss)\n",
    "\n",
    "\n",
    "input_lengths = torch.full(size=(BATCH_SIZE,), fill_value=outputs.shape[0], dtype=torch.long)\n",
    "target_lengths = torch.full(size=(BATCH_SIZE,), fill_value=target.shape[-1], dtype=torch.long)\n",
    "print(input_lengths.shape)\n",
    "print(\"input lengths:\", input_lengths)\n",
    "\n",
    "print(target_lengths.shape)\n",
    "print(\"target lengths:\", target_lengths)\n",
    "\n",
    "ctc_loss = nn.CTCLoss(zero_infinity=False, reduction=\"none\")\n",
    "loss = ctc_loss(outputs, target, input_lengths, target_lengths)"
   ]
  },
  {
   "cell_type": "code",
   "execution_count": 3,
   "id": "27c02c55-2237-4a30-ac5e-8fcf9f5d3245",
   "metadata": {},
   "outputs": [
    {
     "name": "stdout",
     "output_type": "stream",
     "text": [
      "4\n"
     ]
    }
   ],
   "source": [
    "print(BATCH_SIZE)\n",
    "ds = CommonVoiceUkr(TRAIN_PATH, TRAIN_SPEC_PATH)\n",
    "n_ds = len(ds)\n",
    "n_ds = n_ds - n_ds % BATCH_SIZE"
   ]
  },
  {
   "cell_type": "code",
   "execution_count": 6,
   "id": "46ad63d5-44fa-4589-8cb8-85cfaba74ff2",
   "metadata": {},
   "outputs": [
    {
     "name": "stdout",
     "output_type": "stream",
     "text": [
      "Epoch №1\n"
     ]
    },
    {
     "name": "stderr",
     "output_type": "stream",
     "text": [
      "200it [04:11,  1.38s/it]"
     ]
    },
    {
     "name": "stdout",
     "output_type": "stream",
     "text": [
      "Last loss: 2.8608, Loss mean: 5.4384\n"
     ]
    },
    {
     "name": "stderr",
     "output_type": "stream",
     "text": [
      "400it [09:12,  1.57s/it]"
     ]
    },
    {
     "name": "stdout",
     "output_type": "stream",
     "text": [
      "Last loss: 3.2784, Loss mean: 4.4600\n"
     ]
    },
    {
     "name": "stderr",
     "output_type": "stream",
     "text": [
      "600it [14:10,  1.65s/it]"
     ]
    },
    {
     "name": "stdout",
     "output_type": "stream",
     "text": [
      "Last loss: 3.1508, Loss mean: 4.1275\n"
     ]
    },
    {
     "name": "stderr",
     "output_type": "stream",
     "text": [
      "800it [19:21,  1.63s/it]"
     ]
    },
    {
     "name": "stdout",
     "output_type": "stream",
     "text": [
      "Last loss: 4.7544, Loss mean: 3.9408\n"
     ]
    },
    {
     "name": "stderr",
     "output_type": "stream",
     "text": [
      "1000it [24:33,  1.57s/it]"
     ]
    },
    {
     "name": "stdout",
     "output_type": "stream",
     "text": [
      "Last loss: 3.3909, Loss mean: 3.8360\n"
     ]
    },
    {
     "name": "stderr",
     "output_type": "stream",
     "text": [
      "1008it [24:45,  1.47s/it]\n"
     ]
    },
    {
     "name": "stdout",
     "output_type": "stream",
     "text": [
      "Epoch №2\n"
     ]
    },
    {
     "name": "stderr",
     "output_type": "stream",
     "text": [
      "200it [04:37,  1.37s/it]"
     ]
    },
    {
     "name": "stdout",
     "output_type": "stream",
     "text": [
      "Last loss: 3.4456, Loss mean: 3.7724\n"
     ]
    },
    {
     "name": "stderr",
     "output_type": "stream",
     "text": [
      "400it [08:59,  1.34s/it]"
     ]
    },
    {
     "name": "stdout",
     "output_type": "stream",
     "text": [
      "Last loss: 3.2369, Loss mean: 3.7227\n"
     ]
    },
    {
     "name": "stderr",
     "output_type": "stream",
     "text": [
      "600it [13:20,  1.31s/it]"
     ]
    },
    {
     "name": "stdout",
     "output_type": "stream",
     "text": [
      "Last loss: 2.8258, Loss mean: 3.6780\n"
     ]
    },
    {
     "name": "stderr",
     "output_type": "stream",
     "text": [
      "800it [17:33,  1.28s/it]"
     ]
    },
    {
     "name": "stdout",
     "output_type": "stream",
     "text": [
      "Last loss: 3.4173, Loss mean: 3.6398\n"
     ]
    },
    {
     "name": "stderr",
     "output_type": "stream",
     "text": [
      "1000it [21:43,  1.32s/it]"
     ]
    },
    {
     "name": "stdout",
     "output_type": "stream",
     "text": [
      "Last loss: 3.2936, Loss mean: 3.6150\n"
     ]
    },
    {
     "name": "stderr",
     "output_type": "stream",
     "text": [
      "1008it [21:53,  1.30s/it]\n"
     ]
    },
    {
     "name": "stdout",
     "output_type": "stream",
     "text": [
      "Epoch №3\n"
     ]
    },
    {
     "name": "stderr",
     "output_type": "stream",
     "text": [
      "200it [04:13,  1.29s/it]"
     ]
    },
    {
     "name": "stdout",
     "output_type": "stream",
     "text": [
      "Last loss: 3.2376, Loss mean: 3.5958\n"
     ]
    },
    {
     "name": "stderr",
     "output_type": "stream",
     "text": [
      "400it [08:23,  1.28s/it]"
     ]
    },
    {
     "name": "stdout",
     "output_type": "stream",
     "text": [
      "Last loss: 3.5005, Loss mean: 3.5798\n"
     ]
    },
    {
     "name": "stderr",
     "output_type": "stream",
     "text": [
      "600it [12:30,  1.26s/it]"
     ]
    },
    {
     "name": "stdout",
     "output_type": "stream",
     "text": [
      "Last loss: 3.1109, Loss mean: 3.5580\n"
     ]
    },
    {
     "name": "stderr",
     "output_type": "stream",
     "text": [
      "800it [16:40,  1.28s/it]"
     ]
    },
    {
     "name": "stdout",
     "output_type": "stream",
     "text": [
      "Last loss: 3.3946, Loss mean: 3.5484\n"
     ]
    },
    {
     "name": "stderr",
     "output_type": "stream",
     "text": [
      "1000it [20:51,  1.34s/it]"
     ]
    },
    {
     "name": "stdout",
     "output_type": "stream",
     "text": [
      "Last loss: 3.3752, Loss mean: 3.5361\n"
     ]
    },
    {
     "name": "stderr",
     "output_type": "stream",
     "text": [
      "1008it [21:01,  1.25s/it]\n"
     ]
    },
    {
     "name": "stdout",
     "output_type": "stream",
     "text": [
      "Epoch №4\n"
     ]
    },
    {
     "name": "stderr",
     "output_type": "stream",
     "text": [
      "200it [04:04,  1.23s/it]"
     ]
    },
    {
     "name": "stdout",
     "output_type": "stream",
     "text": [
      "Last loss: 3.2026, Loss mean: 3.5257\n"
     ]
    },
    {
     "name": "stderr",
     "output_type": "stream",
     "text": [
      "400it [08:06,  1.23s/it]"
     ]
    },
    {
     "name": "stdout",
     "output_type": "stream",
     "text": [
      "Last loss: 3.1933, Loss mean: 3.5159\n"
     ]
    },
    {
     "name": "stderr",
     "output_type": "stream",
     "text": [
      "600it [12:08,  1.25s/it]"
     ]
    },
    {
     "name": "stdout",
     "output_type": "stream",
     "text": [
      "Last loss: 3.1654, Loss mean: 3.5081\n"
     ]
    },
    {
     "name": "stderr",
     "output_type": "stream",
     "text": [
      "800it [16:15,  1.26s/it]"
     ]
    },
    {
     "name": "stdout",
     "output_type": "stream",
     "text": [
      "Last loss: 3.0753, Loss mean: 3.4999\n"
     ]
    },
    {
     "name": "stderr",
     "output_type": "stream",
     "text": [
      "1000it [20:20,  1.23s/it]"
     ]
    },
    {
     "name": "stdout",
     "output_type": "stream",
     "text": [
      "Last loss: 3.3233, Loss mean: 3.4932\n"
     ]
    },
    {
     "name": "stderr",
     "output_type": "stream",
     "text": [
      "1008it [20:30,  1.22s/it]\n"
     ]
    },
    {
     "name": "stdout",
     "output_type": "stream",
     "text": [
      "Epoch №5\n"
     ]
    },
    {
     "name": "stderr",
     "output_type": "stream",
     "text": [
      "200it [04:00,  1.23s/it]"
     ]
    },
    {
     "name": "stdout",
     "output_type": "stream",
     "text": [
      "Last loss: 3.1758, Loss mean: 3.4868\n"
     ]
    },
    {
     "name": "stderr",
     "output_type": "stream",
     "text": [
      "400it [08:00,  1.23s/it]"
     ]
    },
    {
     "name": "stdout",
     "output_type": "stream",
     "text": [
      "Last loss: 3.4019, Loss mean: 3.4823\n"
     ]
    },
    {
     "name": "stderr",
     "output_type": "stream",
     "text": [
      "600it [12:01,  1.24s/it]"
     ]
    },
    {
     "name": "stdout",
     "output_type": "stream",
     "text": [
      "Last loss: 2.9394, Loss mean: 3.4808\n"
     ]
    },
    {
     "name": "stderr",
     "output_type": "stream",
     "text": [
      "800it [16:01,  1.22s/it]"
     ]
    },
    {
     "name": "stdout",
     "output_type": "stream",
     "text": [
      "Last loss: 4.0202, Loss mean: 3.4758\n"
     ]
    },
    {
     "name": "stderr",
     "output_type": "stream",
     "text": [
      "1000it [20:01,  1.24s/it]"
     ]
    },
    {
     "name": "stdout",
     "output_type": "stream",
     "text": [
      "Last loss: 3.1921, Loss mean: 3.4727\n"
     ]
    },
    {
     "name": "stderr",
     "output_type": "stream",
     "text": [
      "1008it [20:10,  1.20s/it]\n"
     ]
    }
   ],
   "source": [
    "import torch\n",
    "import torch.nn as nn\n",
    "import torch.nn.functional as F\n",
    "from torch.utils.data import DataLoader\n",
    "\n",
    "from model import Conformer as con\n",
    "from data_processing import ukr_lang_chars_handle\n",
    "from data_processing import CommonVoiceUkr\n",
    "from config import *\n",
    "from torch.optim import RAdam\n",
    "from tqdm import tqdm\n",
    "import pprint\n",
    "import numpy as np\n",
    "import wandb\n",
    "#wandb.init(project=\"ASR\", entity=\"alex2135\")\n",
    "\n",
    "#wandb.config = CONFIG\n",
    "\n",
    "device = torch.device(\"cuda\") if torch.cuda.is_available() else torch.device(\"cpu\")\n",
    "\n",
    "# Making dataset and loader\n",
    "ds = CommonVoiceUkr(TRAIN_PATH, TRAIN_SPEC_PATH, batch_size=BATCH_SIZE)\n",
    "train_dataloader = DataLoader(ds, shuffle=True, batch_size=BATCH_SIZE)\n",
    "\n",
    "\n",
    "# Get model result\n",
    "tgt_n = 152\n",
    "src = torch.rand(BATCH_SIZE, 1, 256, 1024).to(device)\n",
    "tgt = torch.rand(1, 1, 38, 152).to(device)\n",
    "model = con(device=device)\n",
    "result = model(src, tgt)\n",
    "\n",
    "\n",
    "# Create optimizator\n",
    "optimizer = RAdam(model.parameters())\n",
    "\n",
    "\n",
    "# Create CTC criterion\n",
    "b, cnls, t, clss = result.shape\n",
    "result = result.view(t * cnls, b, clss).to(device)\n",
    "target = torch.randn(BATCH_SIZE, tgt_n).to(device)\n",
    "input_lengths = torch.full(size=(BATCH_SIZE,), fill_value=result.shape[0], dtype=torch.long).to(device)\n",
    "target_lengths = torch.full(size=(BATCH_SIZE,), fill_value=tgt.shape[-1], dtype=torch.long).to(device)\n",
    "criterion = nn.CTCLoss(blank=ukr_lang_chars_handle.token_to_index[\"<blank>\"], zero_infinity=True)\n",
    "# loss = criterion(result, target, input_lengths, target_lengths)\n",
    "\n",
    "\n",
    "running_loss = []\n",
    "epochs = 5\n",
    "for epoch in range(1, epochs + 1):\n",
    "    for idx, (X, tgt) in tqdm(enumerate(train_dataloader)):\n",
    "        optimizer.zero_grad()\n",
    "\n",
    "        one_hots = ukr_lang_chars_handle.sentences_to_one_hots(tgt, 152).to(device)\n",
    "        X = X.to(device)\n",
    "        output = model(X, one_hots)  # (batch, _, time, n_class)\n",
    "        b, cnls, t, clss = output.shape\n",
    "        output = output.view(t * cnls, b, clss)  # (time, batch, n_class)\n",
    "        output = F.log_softmax(output, dim=2)\n",
    "\n",
    "        indeces = ukr_lang_chars_handle.sentences_to_indeces(tgt).to(device)\n",
    "        target_lengths = torch.full(size=(BATCH_SIZE,), fill_value=indeces.shape[-1], dtype=torch.long).to(device)\n",
    "        loss = criterion(output, indeces, input_lengths, target_lengths)\n",
    "        loss.backward()\n",
    "        optimizer.step()\n",
    "\n",
    "        running_loss.append(loss)\n",
    "        #wandb.log({\"loss\": loss})\n",
    "\n",
    "        if torch.isnan(loss) or torch.isinf(loss):\n",
    "            print(\"Target label:\", tgt)\n",
    "            print(\"Running loss:\")\n",
    "            pprint.pprint(running_loss)\n",
    "            print(output.shape)\n",
    "            print(\"Is nan in output:\", torch.sum(torch.isnan(output)))\n",
    "            print(\"Is inf in output:\", torch.sum(torch.isinf(output)))\n",
    "            pprint.pprint(output)\n",
    "            break\n",
    "        if (idx + 1) % 200 == 0:  # print every 200 mini-batches\n",
    "            running_loss = [t.cpu().detach().numpy() if type(t) is torch.Tensor else t for t in running_loss]\n",
    "            running_loss = np.array(running_loss)\n",
    "            print(f\"Epoch: {epoch}, Last loss: {loss:.4f}, Loss mean: {np.mean(running_loss):.4f}\")\n",
    "            running_loss = list(running_loss)"
   ]
  },
  {
   "cell_type": "code",
   "execution_count": 7,
   "id": "826bb23d-afe3-48ef-8721-58b81b20ad26",
   "metadata": {},
   "outputs": [
    {
     "data": {
      "image/png": "[encoded data removed]",
      "text/plain": [
       "<Figure size 864x720 with 1 Axes>"
      ]
     },
     "metadata": {
      "needs_background": "light"
     },
     "output_type": "display_data"
    }
   ],
   "source": [
    "import matplotlib.pyplot as plt\n",
    "\n",
    "losses_list = [t.detach().numpy() if type(t) is torch.Tensor else t for t in running_loss ]\n",
    "plt.figure(figsize=(12, 10))\n",
    "plt.plot(losses_list)\n",
    "plt.show()"
   ]
  },
  {
   "cell_type": "code",
   "execution_count": 8,
   "id": "ac3e7aa3-53f5-44c2-baac-7bcb63a4f2bb",
   "metadata": {},
   "outputs": [
    {
     "name": "stdout",
     "output_type": "stream",
     "text": [
      "5040\n"
     ]
    },
    {
     "data": {
      "image/png": "[encoded data removed]",
      "text/plain": [
       "<Figure size 864x720 with 1 Axes>"
      ]
     },
     "metadata": {
      "needs_background": "light"
     },
     "output_type": "display_data"
    }
   ],
   "source": [
    "import matplotlib.pyplot as plt\n",
    "\n",
    "wtout_zeros = np.array([t.detach().numpy() if type(t) is torch.Tensor else t for t in running_loss])\n",
    "print(len(running_loss))\n",
    "wtout_zeros = wtout_zeros[wtout_zeros != 0]\n",
    "plt.figure(figsize=(12, 10))\n",
    "plt.plot(wtout_zeros)\n",
    "plt.show()"
   ]
  },
  {
   "cell_type": "code",
   "execution_count": null,
   "id": "1a6bc36b-e045-44ee-ad64-f1d3fa236967",
   "metadata": {},
   "outputs": [],
   "source": [
    "\"\"\"\n",
    "import os\n",
    "PATH = os.path.join(DATA_DIR, \"model_1.pt\")\n",
    "model = con()\n",
    "model.load_state_dict(torch.load(PATH))\n",
    "\"\"\""
   ]
  },
  {
   "cell_type": "code",
   "execution_count": 18,
   "id": "96fe5b77-258f-4f60-93e3-0e4e443cb874",
   "metadata": {},
   "outputs": [
    {
     "name": "stdout",
     "output_type": "stream",
     "text": [
      "('Князь Великий в Руській землі',)\n",
      "torch.Size([1, 1, 256, 1024])\n",
      "torch.Size([1, 1, 38, 152])\n",
      "torch.Size([1, 1, 256, 38])\n",
      "result : '<blank><blank><blank><blank><blank><blank><blank><blank><blank><blank><blank><blank><blank><blank><blank><blank><blank><blank><blank><blank><blank><blank><blank><blank><blank><blank><blank><blank><blank><blank><blank><blank><blank><blank><blank><blank><blank><blank><blank><blank><blank><blank><blank><blank><blank><blank><blank><blank><blank><blank><blank><blank><blank><blank><blank><blank><blank><blank><blank><blank><blank><blank><blank><blank><blank><blank><blank><blank><blank><blank><blank><blank><blank><blank><blank><blank><blank><blank><blank><blank><blank><blank><blank><blank><blank><blank><blank><blank><blank><blank><blank><blank><blank><blank><blank><blank><blank><blank><blank><blank><blank><blank><blank><blank><blank><blank><blank><blank><blank><blank><blank><blank><blank><blank><blank><blank><blank><blank><blank><blank><blank><blank><blank><blank><blank><blank><blank><blank><blank><blank><blank><blank><blank><blank><blank><blank><blank><blank><blank><blank><blank><blank><blank><blank><blank><blank><blank><blank><blank><blank><blank><blank><blank><blank><blank><blank><blank><blank><blank><blank><blank><blank><blank><blank><blank><blank><blank><blank><blank><blank><blank><blank><blank><blank><blank><blank><blank><blank><blank><blank><blank><blank><blank><blank><blank><blank><blank><blank><blank><blank><blank><blank><blank><blank><blank><blank><blank><blank><blank><blank><blank><blank><blank><blank><blank><blank><blank><blank><blank><blank><blank><blank><blank><blank><blank><blank><blank><blank><blank><blank><blank><blank><blank><blank><blank><blank><blank><blank><blank><blank><blank><blank><blank><blank><blank><blank><blank><blank><blank><blank><blank><blank><blank><blank><blank><blank><blank><blank><blank><blank><blank><blank><blank><blank><blank><blank>'\n"
     ]
    }
   ],
   "source": [
    "model.eval()\n",
    "ds = CommonVoiceUkr(TRAIN_PATH, TRAIN_SPEC_PATH)\n",
    "train_dataloader = DataLoader(ds, shuffle=True, batch_size=1)\n",
    "\n",
    "with torch.no_grad():\n",
    "    X, tgt = next(iter(train_dataloader))\n",
    "    print(tgt)\n",
    "    print(X.shape)\n",
    "    tgt = (\"\",)\n",
    "    \n",
    "    one_hots = ukr_lang_chars_handle.sentences_to_one_hots(tgt, 152)\n",
    "    print(one_hots.shape)\n",
    "    b, c, l, d = one_hots.shape\n",
    "    \n",
    "    out_data = model(X, one_hots)\n",
    "    print(out_data.shape)\n",
    "    result = ukr_lang_chars_handle.one_hots_to_sentence(out_data)\n",
    "    print(f\"result : '{result}'\")"
   ]
  },
  {
   "cell_type": "code",
   "execution_count": null,
   "id": "606c3503-cce4-4a0d-8be6-b121f07f7c10",
   "metadata": {},
   "outputs": [],
   "source": [
    "N = 67\n",
    "\n",
    "print(N - N%4)"
   ]
  },
  {
   "cell_type": "code",
   "execution_count": 10,
   "id": "35493a22-eba4-4223-8119-c3a153af1b55",
   "metadata": {},
   "outputs": [
    {
     "name": "stdout",
     "output_type": "stream",
     "text": [
      "D:\\ML\\Speech recognition\\NLP_diploma\\uk\\model_1.pt\n"
     ]
    }
   ],
   "source": [
    "import os\n",
    "PATH = os.path.join(DATA_DIR, \"model_1.pt\")\n",
    "print(PATH)\n",
    "torch.save(model.state_dict(), PATH)"
   ]
  },
  {
   "cell_type": "code",
   "execution_count": null,
   "id": "a78cf4bc-8d33-4ce6-af74-24cf5c65875b",
   "metadata": {},
   "outputs": [],
   "source": []
  }
 ],
 "metadata": {
  "kernelspec": {
   "display_name": "Python 3 (ipykernel)",
   "language": "python",
   "name": "python3"
  },
  "language_info": {
   "codemirror_mode": {
    "name": "ipython",
    "version": 3
   },
   "file_extension": ".py",
   "mimetype": "text/x-python",
   "name": "python",
   "nbconvert_exporter": "python",
   "pygments_lexer": "ipython3",
   "version": "3.9.2"
  }
 },
 "nbformat": 4,
 "nbformat_minor": 5
}
