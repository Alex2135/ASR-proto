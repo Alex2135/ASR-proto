{
 "cells": [
  {
   "cell_type": "code",
   "execution_count": 1,
   "id": "a5c45ad9-c21b-41e6-bd36-5dc6ca325ef8",
   "metadata": {},
   "outputs": [],
   "source": [
    "import torch\n",
    "import torchvision\n",
    "import torch.nn as nn\n",
    "import numpy as np\n",
    "from torch import Tensor\n",
    "from torch.nn import functional as F"
   ]
  },
  {
   "cell_type": "code",
   "execution_count": 2,
   "id": "a224ee5b-7f8a-4c21-8210-11effc0ac62c",
   "metadata": {},
   "outputs": [],
   "source": [
    "# ENCODER PARAMS\n",
    "# Encoder inputs\n",
    "enc_n_feats = 256   # spectrogram height\n",
    "enc_d_model = 1024  # spectrogram max width\n",
    "\n",
    "# DECODER PARAMS\n",
    "# Decoder inputs--\n",
    "dec_n_feats = 38    # len(tokens)\n",
    "dec_d_model = 152   # maximum symbols in sentence"
   ]
  },
  {
   "cell_type": "code",
   "execution_count": 56,
   "id": "5d1bfd19-6fd8-48d9-919a-65f9e6428cf1",
   "metadata": {},
   "outputs": [],
   "source": [
    "class Swish(nn.Module):\n",
    "    def forward(self, x):\n",
    "        return x * x.sigmoid()\n",
    "\n",
    "    \n",
    "class AbsolutePositionEncoding(nn.Module):\n",
    "    def __init__(self):\n",
    "        super().__init__()\n",
    "        \n",
    "    def pos_f(self, row, column, emb_dim):\n",
    "        func = (np.sin, np.cos)[row % 2]\n",
    "        w_k = 1/np.power(10000, 2*row/emb_dim)\n",
    "        pe_i_j = func(column * w_k)\n",
    "        return torch.Tensor([pe_i_j])\n",
    "    \n",
    "    def position_encoding(self, X):\n",
    "        b, _, h, w = X.shape\n",
    "        pe = torch.zeros((b, h, w))\n",
    "        for k in range(b):\n",
    "            for i in range(h):\n",
    "                for j in range(w):\n",
    "                    pe[k][i][j] = self.pos_f(i, j, h)\n",
    "                \n",
    "        pe = pe.reshape(b, 1, h, w)\n",
    "        return pe\n",
    "    \n",
    "    def forward(self, x):\n",
    "        PE = self.position_encoding(x)\n",
    "        return PE\n",
    "                \n",
    "                \n",
    "class LFFN(nn.Module):\n",
    "    def __init__(self, inputs_dim, dim_hid):\n",
    "        \"\"\"\n",
    "        Args:\n",
    "        inputs_dim - tuple, \n",
    "            (N, C, H, W) of inputs\n",
    "        dim_hid - int, \n",
    "            number of hidden units\n",
    "        \"\"\"\n",
    "        super().__init__()\n",
    "        _, _, dim_bn, dim = inputs_dim\n",
    "        self.E1 = nn.Linear(in_features=dim, out_features=dim_bn, bias=False)\n",
    "        self.D1 = nn.Linear(in_features=dim_bn, out_features=dim_hid, bias=False)\n",
    "        self.swish = Swish()\n",
    "        self.dropout = nn.Dropout(0.5)\n",
    "        self.E2 = nn.Linear(in_features=dim_hid, out_features=dim_bn, bias=False)\n",
    "        self.D2 = nn.Linear(in_features=dim_bn, out_features=dim, bias=False)\n",
    "        \n",
    "    def forward(self, inputs):\n",
    "        x = self.E1(inputs)\n",
    "        x = self.D1(x)\n",
    "        x = self.swish(x)\n",
    "        x = self.dropout(x)\n",
    "        x = self.E2(x)\n",
    "        y = self.D2(x)\n",
    "        return y\n",
    "    \n",
    "\n",
    "class LightAttention(nn.Module):\n",
    "    def __init__(self, dim_input_q, dim_input_kv, dim_q, dim_k, with_mask=False):\n",
    "        super().__init__()\n",
    "        self.with_mask = with_mask\n",
    "        self.softmax_col = nn.Softmax(dim=-1)\n",
    "        self.softmax_row = nn.Softmax(dim=-2)\n",
    "        \n",
    "        self.W_q = nn.Linear(in_features=dim_input_q, out_features=dim_q)\n",
    "        self.W_k = nn.Linear(in_features=dim_input_kv, out_features=dim_k)\n",
    "        self.W_v = nn.Linear(in_features=dim_input_kv, out_features=dim_k)\n",
    "        \n",
    "        self.d_q = torch.pow(torch.Tensor([dim_q]), 1/4)\n",
    "        self.d_k = torch.pow(torch.Tensor([dim_k]), 1/4)\n",
    "        \n",
    "    def mask(self, dim: (int, int)) -> Tensor :\n",
    "        a, b = dim\n",
    "        mask = torch.ones(b, a)\n",
    "        mask = torch.triu(mask, diagonal=0)\n",
    "        mask = torch.log(mask.T)\n",
    "        return mask\n",
    "        \n",
    "    def forward(self, x_q, x_k, x_v):\n",
    "        Q = self.W_q(x_q)\n",
    "        K = self.W_k(x_k)\n",
    "        V = self.W_v(x_v)\n",
    "        \n",
    "        if self.with_mask == True:\n",
    "            Q += self.mask(Q.shape[-2:])\n",
    "        \n",
    "        A = self.softmax_row(Q / self.d_q)\n",
    "        B = torch.matmul(self.softmax_col(K.transpose(-2, -1) / self.d_k), V)\n",
    "        Z = torch.matmul(A, B)\n",
    "        \n",
    "        return Z\n",
    "\n",
    "\n",
    "class MHLA(nn.Module):\n",
    "    def __init__(self, \n",
    "                 num_heads, \n",
    "                 dim_input_q,\n",
    "                 dim_input_kv,\n",
    "                 dim_q = 64,\n",
    "                 dim_k = 64,\n",
    "                 mask=False\n",
    "                ):\n",
    "        \"\"\"\n",
    "        Args:\n",
    "        dim_input - if shape is (B, C, H, W), then dim_input is W\n",
    "        \"\"\"\n",
    "        super().__init__()\n",
    "        heads = [LightAttention(dim_input_q, dim_input_kv, dim_q, dim_k, mask) for _ in range(num_heads)]\n",
    "        self.heads = nn.ModuleList(heads)                \n",
    "        self.W_o = nn.Linear(dim_k*num_heads, dim_input_kv)\n",
    "        \n",
    "    def forward(self, x_q, x_k, x_v):\n",
    "        x = torch.cat([latt(x_q, x_k, x_v) for latt in self.heads], dim=-1)\n",
    "        y = self.W_o(x)\n",
    "        return y\n",
    "    \n",
    "    \n",
    "class GLU(nn.Module):\n",
    "    def __init__(self, dim):\n",
    "        super().__init__()\n",
    "        self.dim = dim\n",
    "\n",
    "    def forward(self, x):\n",
    "        out, gate = x.chunk(2, dim=self.dim)\n",
    "        return out * gate.sigmoid()\n",
    "    \n",
    "    \n",
    "class DepthWiseConv1d(nn.Module):\n",
    "    def __init__(self, chan_in, chan_out, kernel_size, padding):\n",
    "        super().__init__()\n",
    "        self.conv1 = nn.Conv2d(chan_in, chan_in, kernel_size=(1, kernel_size), padding=(0, padding))\n",
    "        self.conv2 = nn.Conv2d(chan_in, chan_out, kernel_size=(1, 1))\n",
    "\n",
    "    def forward(self, inputs):\n",
    "        x = self.conv1(inputs)\n",
    "        x = self.conv2(x)\n",
    "        return x\n",
    "    \n",
    "    \n",
    "class PointWiseConv(nn.Module):\n",
    "    def __init__(self, chan_in):\n",
    "        super().__init__()\n",
    "        self.pw_conv = nn.Conv2d(in_channels=chan_in, out_channels=1, kernel_size=1)\n",
    "        \n",
    "    def forward(self, inputs):\n",
    "        x = self.pw_conv(inputs)\n",
    "        return x\n",
    "    \n",
    "    \n",
    "class ConvModule(nn.Module):\n",
    "    def __init__(self, dim_C, dim_H, dim_W, dropout=0.3):\n",
    "        super().__init__()\n",
    "        self.ln1 = nn.LayerNorm([dim_H, dim_W*dim_C])\n",
    "        self.pw_conv1 = PointWiseConv(chan_in=dim_C)\n",
    "        self.glu = GLU(-2)\n",
    "        self.dw_conv1d = DepthWiseConv1d(dim_C, dim_C*2, kernel_size=3, padding=1)\n",
    "        self.bn = nn.BatchNorm2d(dim_C)\n",
    "        self.swish = Swish()\n",
    "        self.pw_conv2 = PointWiseConv(chan_in=dim_C)\n",
    "        self.dropout = nn.Dropout(dropout)\n",
    "        \n",
    "    def forward(self, inputs):\n",
    "        x = inputs\n",
    "        b, c, h, w = x.shape\n",
    "        x = x.reshape(b, h, w*c)\n",
    "        \n",
    "        x = self.ln1(x)\n",
    "        x = x.reshape(b, c, h, w)\n",
    "        \n",
    "        x = self.pw_conv1(x)\n",
    "        x = self.glu(x)\n",
    "        x = self.dw_conv1d(x)\n",
    "        x = x.reshape(b, c, -1, w)\n",
    "        \n",
    "        x = self.bn(x)\n",
    "        x = self.swish(x)\n",
    "        x = self.pw_conv2(x)\n",
    "        x = self.dropout(x)\n",
    "        return x\n",
    "    \n",
    "    \n",
    "class LAC(nn.Module):\n",
    "    def __init__(self, dim_B=1, dim_C=1, dim_H=64, dim_W=256):\n",
    "        super().__init__()\n",
    "        self.lffn1 = LFFN(inputs_dim=(dim_B, dim_C, dim_H, dim_W), dim_hid=1024)\n",
    "        self.mhlsa = MHLA(num_heads=4, dim_input_q=dim_W, dim_input_kv=dim_W)    \n",
    "        self.conv_module = ConvModule(dim_C, dim_H, dim_W)\n",
    "        self.lffn2 = LFFN(inputs_dim=(dim_B, dim_C, dim_H, dim_W), dim_hid=1024)\n",
    "        self.ln = nn.LayerNorm([dim_C, dim_H, dim_W])\n",
    "        \n",
    "    def forward(self, inputs):\n",
    "        x = inputs\n",
    "        x = x + 1/2 * self.lffn1(x)\n",
    "        x = x + self.mhlsa(x, x, x)\n",
    "        x = x + self.conv_module(x)\n",
    "        x = x + 1/2 * self.lffn2(x)\n",
    "        x = self.ln(x)\n",
    "        return inputs + x\n",
    "    \n",
    "    \n",
    "class Encoder(nn.Module):\n",
    "    def __init__(self, lacs_n=2):\n",
    "        super().__init__()\n",
    "        self.lacs = nn.Sequential(*[LAC() for i in range(lacs_n)])\n",
    "        \n",
    "    def forward(self, inputs):\n",
    "        x = self.lacs(inputs)\n",
    "        return x\n",
    "    \n",
    "\n",
    "class DecoderBlock(nn.Module):\n",
    "    def __init__(self, dim_shape_tgt, dim_shape_mem):\n",
    "        super().__init__()\n",
    "        dim_B, dim_C, dim_H, dim_tgt = dim_shape_tgt\n",
    "        dim_mem = dim_shape_mem[-1]\n",
    "        self.mhla_with_mask = MHLA(num_heads=2, dim_input_q=dim_tgt, dim_input_kv=dim_tgt)\n",
    "        self.ln1 = nn.LayerNorm([dim_C, dim_H, dim_tgt])\n",
    "        self.mhla_with_memory = MHLA(num_heads=2, dim_input_q=dim_tgt, dim_input_kv=dim_mem, mask=True)\n",
    "        self.ln2 = nn.LayerNorm([dim_C, dim_H, dim_mem])\n",
    "        self.lffn = LFFN(inputs_dim=(dim_B, dim_C, dim_H, dim_mem), dim_hid=1024)\n",
    "        self.ln3 = nn.LayerNorm([dim_C, dim_H, dim_mem])\n",
    "        \n",
    "    def forward(self, mem, y):\n",
    "        y = y + self.mhla_with_mask(y, y, y)\n",
    "        y = self.ln1(y)\n",
    "        y = y + self.mhla_with_memory(y, mem, mem)\n",
    "        y = self.ln2(y)\n",
    "        y = y + self.lffn(y)\n",
    "        y = self.ln3(y)\n",
    "        return y\n",
    "    \n",
    "    \n",
    "class Decoder(nn.Module):\n",
    "    def __init__(self):\n",
    "        super().__init__()\n",
    "        # TODO: + linar modules to reshape decoder target to (1, 1, 64, 256)\n",
    "        self.lin1 = nn.Linear(152, 256)\n",
    "        self.swish1 = Swish()\n",
    "        self.lin2 = nn.Linear(38, 64)\n",
    "        self.swish2 = Swish()\n",
    "        self.dec_blocks = nn.ModuleList([\n",
    "            DecoderBlock(dim_shape_tgt=(1, 1, 64, 256), dim_shape_mem=(1, 1, 64, 256)) \n",
    "            for _ in range(4)])\n",
    "        self.lin_out = nn.Linear(64, 38)\n",
    "        self.softmax = nn.Softmax(dim=-1)\n",
    "        \n",
    "    def forward(self, mem, tgt):\n",
    "        y = tgt\n",
    "        y = self.lin1(y)\n",
    "        y = self.swish1(y)\n",
    "        y = y.transpose(-1, -2)\n",
    "        y = self.lin2(y)\n",
    "        y = self.swish2(y)\n",
    "        y = y.transpose(-1, -2)\n",
    "        \n",
    "        for dec in self.dec_blocks:\n",
    "            y = dec(mem, y)\n",
    "        \n",
    "        y = y.transpose(-1, -2)\n",
    "        y = self.lin_out(y)\n",
    "        y = self.softmax(y)\n",
    "        print(\"y shape:\", y.shape)\n",
    "        \n",
    "        return y"
   ]
  },
  {
   "cell_type": "code",
   "execution_count": 58,
   "id": "3f17a231-32b0-423c-a722-aebe0f239d27",
   "metadata": {},
   "outputs": [
    {
     "name": "stdout",
     "output_type": "stream",
     "text": [
      "y shape: torch.Size([1, 1, 256, 38])\n"
     ]
    },
    {
     "data": {
      "text/plain": [
       "torch.Size([1, 1, 256, 38])"
      ]
     },
     "execution_count": 58,
     "metadata": {},
     "output_type": "execute_result"
    }
   ],
   "source": [
    "class Conformer(nn.Module):\n",
    "    def __init__(self, lacs_n=2):\n",
    "        super().__init__()\n",
    "        self.input_preprocess = nn.Sequential(\n",
    "            nn.Conv2d(in_channels=1, out_channels=1, kernel_size=3, stride=2),\n",
    "            Swish(),\n",
    "            nn.Conv2d(in_channels=1, out_channels=1, kernel_size=3, stride=2, padding=1),\n",
    "            Swish()\n",
    "        )\n",
    "        self.pos_enc_inp = AbsolutePositionEncoding()\n",
    "        self.pos_enc_out = AbsolutePositionEncoding()\n",
    "        self.encoder = Encoder(lacs_n)\n",
    "        self.decoder = Decoder()\n",
    "        \n",
    "    def forward(self, inputs, tgt):\n",
    "        x = self.input_preprocess(inputs)\n",
    "        x = x + self.pos_enc_inp(x)\n",
    "        x = self.encoder(x)        \n",
    "        y = self.pos_enc_out(tgt)\n",
    "        y = self.decoder(x, y)\n",
    "        \n",
    "        return y\n",
    "        \n",
    "        \n",
    "src = torch.rand(1, 1, 256, 1024)\n",
    "tgt = torch.rand(1, 1, 38, 152)\n",
    "\n",
    "model = Conformer()\n",
    "result = model(src, tgt)\n",
    "result.shape"
   ]
  },
  {
   "cell_type": "code",
   "execution_count": 67,
   "id": "59c632c9-7ed3-4d0a-b912-ed3f4004fa34",
   "metadata": {},
   "outputs": [
    {
     "data": {
      "text/plain": [
       "'D:\\\\ML\\\\Speech recognition\\\\NLP_diploma\\\\ASR proto\\\\ASR proto\\\\notebooks'"
      ]
     },
     "execution_count": 67,
     "metadata": {},
     "output_type": "execute_result"
    }
   ],
   "source": [
    "pwd"
   ]
  },
  {
   "cell_type": "code",
   "execution_count": 62,
   "id": "fc2eb700-6af9-4ebc-80cd-8ca8a7260568",
   "metadata": {},
   "outputs": [
    {
     "ename": "ModuleNotFoundError",
     "evalue": "No module named 'model'",
     "output_type": "error",
     "traceback": [
      "\u001b[1;31m---------------------------------------------------------------------------\u001b[0m",
      "\u001b[1;31mModuleNotFoundError\u001b[0m                       Traceback (most recent call last)",
      "\u001b[1;32m~\\AppData\\Local\\Temp/ipykernel_18052/819244680.py\u001b[0m in \u001b[0;36m<module>\u001b[1;34m\u001b[0m\n\u001b[1;32m----> 1\u001b[1;33m \u001b[1;32mfrom\u001b[0m \u001b[0mmodel\u001b[0m\u001b[1;33m.\u001b[0m\u001b[0mconformer\u001b[0m \u001b[1;32mimport\u001b[0m \u001b[0mConformer\u001b[0m \u001b[1;32mas\u001b[0m \u001b[0mcon\u001b[0m\u001b[1;33m\u001b[0m\u001b[1;33m\u001b[0m\u001b[0m\n\u001b[0m\u001b[0;32m      2\u001b[0m \u001b[1;33m\u001b[0m\u001b[0m\n\u001b[0;32m      3\u001b[0m \u001b[0msrc\u001b[0m \u001b[1;33m=\u001b[0m \u001b[0mtorch\u001b[0m\u001b[1;33m.\u001b[0m\u001b[0mrand\u001b[0m\u001b[1;33m(\u001b[0m\u001b[1;36m1\u001b[0m\u001b[1;33m,\u001b[0m \u001b[1;36m1\u001b[0m\u001b[1;33m,\u001b[0m \u001b[1;36m256\u001b[0m\u001b[1;33m,\u001b[0m \u001b[1;36m1024\u001b[0m\u001b[1;33m)\u001b[0m\u001b[1;33m\u001b[0m\u001b[1;33m\u001b[0m\u001b[0m\n\u001b[0;32m      4\u001b[0m \u001b[0mtgt\u001b[0m \u001b[1;33m=\u001b[0m \u001b[0mtorch\u001b[0m\u001b[1;33m.\u001b[0m\u001b[0mrand\u001b[0m\u001b[1;33m(\u001b[0m\u001b[1;36m1\u001b[0m\u001b[1;33m,\u001b[0m \u001b[1;36m1\u001b[0m\u001b[1;33m,\u001b[0m \u001b[1;36m38\u001b[0m\u001b[1;33m,\u001b[0m \u001b[1;36m152\u001b[0m\u001b[1;33m)\u001b[0m\u001b[1;33m\u001b[0m\u001b[1;33m\u001b[0m\u001b[0m\n\u001b[0;32m      5\u001b[0m \u001b[1;33m\u001b[0m\u001b[0m\n",
      "\u001b[1;31mModuleNotFoundError\u001b[0m: No module named 'model'"
     ]
    }
   ],
   "source": [
    "from model.conformer import Conformer as con\n",
    "\n",
    "src = torch.rand(1, 1, 256, 1024)\n",
    "tgt = torch.rand(1, 1, 38, 152)\n",
    "\n",
    "model = Conformer()\n",
    "result = model(src, tgt)\n",
    "result.shape"
   ]
  },
  {
   "cell_type": "code",
   "execution_count": 5,
   "id": "61918809-b4e9-42db-b86e-2a5e1687c33f",
   "metadata": {},
   "outputs": [
    {
     "name": "stdout",
     "output_type": "stream",
     "text": [
      "True\n",
      "True\n"
     ]
    }
   ],
   "source": [
    "print(256 >> 2 == 256 / 4)\n",
    "print(1024 >> 2 == 1024 / 4)"
   ]
  },
  {
   "cell_type": "code",
   "execution_count": 6,
   "id": "2e3ccb46-7b66-4954-9cd1-cd66cb409b44",
   "metadata": {},
   "outputs": [
    {
     "data": {
      "text/plain": [
       "tensor([[[[1006.4775, 1007.6511,  992.4526,  ..., 1127.8984,  986.3425,\n",
       "            950.4811],\n",
       "          [1058.5493, 1055.2651, 1042.6052,  ..., 1182.5496, 1037.9567,\n",
       "            996.9955],\n",
       "          [1020.5523, 1021.6061, 1011.4777,  ..., 1146.8257, 1000.3933,\n",
       "            964.7375],\n",
       "          ...,\n",
       "          [1066.8860, 1069.8385, 1052.0045,  ..., 1194.3453, 1048.4724,\n",
       "           1007.0542],\n",
       "          [1059.3231, 1056.8804, 1042.4246,  ..., 1185.4541, 1034.8496,\n",
       "            997.5891],\n",
       "          [1022.8632, 1021.5361, 1009.0948,  ..., 1148.2968, 1002.4056,\n",
       "            964.8112]]]])"
      ]
     },
     "execution_count": 6,
     "metadata": {},
     "output_type": "execute_result"
    }
   ],
   "source": [
    "X = torch.rand(1, 1, 64, 256)\n",
    "E = torch.rand(256, 64)\n",
    "D = torch.rand(64, 1024)\n",
    "1/2 * torch.matmul(torch.matmul(X, E), D)"
   ]
  },
  {
   "cell_type": "code",
   "execution_count": 7,
   "id": "b23eab76-fc90-425f-9288-08dcec515c0b",
   "metadata": {},
   "outputs": [
    {
     "name": "stdout",
     "output_type": "stream",
     "text": [
      "tensor([[-1.1272,  0.3683,  1.1113],\n",
      "        [-0.0885,  0.5825, -0.3224]])\n",
      "tensor([[0.2614, 0.4466, 0.8075],\n",
      "        [0.7386, 0.5534, 0.1925]])\n"
     ]
    }
   ],
   "source": [
    "m = nn.Softmax(dim=-1) # softmax row\n",
    "m = nn.Softmax(dim=-2) # softmax col\n",
    "input = torch.randn(2, 3)\n",
    "print(input)\n",
    "output = m(input)\n",
    "print(output)"
   ]
  },
  {
   "cell_type": "code",
   "execution_count": 8,
   "id": "43a556b6-316d-4e40-881c-935dc49d1a8a",
   "metadata": {},
   "outputs": [
    {
     "data": {
      "text/plain": [
       "tensor([3.2468e-10, 3.1262e-10, 3.1703e-10, 3.1846e-10, 3.1775e-10, 3.1337e-10,\n",
       "        3.1034e-10, 3.0957e-10, 3.1110e-10, 3.2196e-10, 3.2127e-10, 3.1262e-10,\n",
       "        3.2057e-10, 3.1775e-10, 3.2468e-10, 3.2057e-10])"
      ]
     },
     "execution_count": 8,
     "metadata": {},
     "output_type": "execute_result"
    }
   ],
   "source": [
    "torch.pow(torch.Tensor(16), 1/4)"
   ]
  },
  {
   "cell_type": "code",
   "execution_count": 9,
   "id": "8c69176f-4cfe-437e-a2d7-394c02632c0d",
   "metadata": {},
   "outputs": [
    {
     "name": "stdout",
     "output_type": "stream",
     "text": [
      "torch.Size([8, 9, 11, 10])\n",
      "torch.Size([11, 10, 9, 8])\n"
     ]
    }
   ],
   "source": [
    "a = torch.rand(8,9,10,11)\n",
    "print(a.transpose(3,2).shape)\n",
    "print(a.permute(3,2,1,0).size())"
   ]
  },
  {
   "cell_type": "code",
   "execution_count": 10,
   "id": "bff85e54-2bf2-4457-a72b-6be26fd01cdd",
   "metadata": {},
   "outputs": [
    {
     "data": {
      "text/plain": [
       "1"
      ]
     },
     "execution_count": 10,
     "metadata": {},
     "output_type": "execute_result"
    }
   ],
   "source": [
    "torch.cuda.device_count()"
   ]
  },
  {
   "cell_type": "code",
   "execution_count": 11,
   "id": "7dc6f7d2-acdf-4c64-9c5d-a3b8a4526644",
   "metadata": {},
   "outputs": [
    {
     "data": {
      "text/plain": [
       "torch.Size([1, 1, 64, 128])"
      ]
     },
     "execution_count": 11,
     "metadata": {},
     "output_type": "execute_result"
    }
   ],
   "source": [
    "A = torch.rand(1, 1, 64, 64)\n",
    "B = torch.rand(1, 1, 64, 64)\n",
    "\n",
    "torch.cat([A, B], dim=-1).shape"
   ]
  },
  {
   "cell_type": "code",
   "execution_count": 12,
   "id": "c7040b4a-f69b-42cc-a628-e5008770e95d",
   "metadata": {},
   "outputs": [
    {
     "data": {
      "text/plain": [
       "(torch.Size([1, 1, 64, 32]), torch.Size([1, 1, 64, 32]))"
      ]
     },
     "execution_count": 12,
     "metadata": {},
     "output_type": "execute_result"
    }
   ],
   "source": [
    "A = torch.rand(1, 1, 64, 64)\n",
    "A1, A2 = A.chunk(2, dim=-1)\n",
    "A1.shape, A2.shape"
   ]
  },
  {
   "cell_type": "code",
   "execution_count": 13,
   "id": "0db556a1-fba4-4c29-9848-96783d5ab16c",
   "metadata": {},
   "outputs": [
    {
     "name": "stdout",
     "output_type": "stream",
     "text": [
      "torch.Size([1, 1, 64, 128])\n",
      "torch.Size([1, 1, 64, 128])\n"
     ]
    }
   ],
   "source": [
    "from torch.nn import functional as F\n",
    "A = torch.rand(1, 1, 64, 256)\n",
    "print(F.glu(A, -1).shape)\n",
    "\n",
    "glu = torch.nn.GLU()\n",
    "print(glu(A).shape)"
   ]
  },
  {
   "cell_type": "code",
   "execution_count": 14,
   "id": "11ba14f8-33bc-4b02-8166-1c5f8c98b34b",
   "metadata": {},
   "outputs": [
    {
     "data": {
      "text/plain": [
       "torch.Size([2, 64, 256])"
      ]
     },
     "execution_count": 14,
     "metadata": {},
     "output_type": "execute_result"
    }
   ],
   "source": [
    "A = torch.rand(2, 1, 64, 256)\n",
    "\n",
    "b, c, h, w = A.shape\n",
    "A = A.reshape(b, h, -1)\n",
    "A.shape"
   ]
  },
  {
   "cell_type": "code",
   "execution_count": 15,
   "id": "659ec296-0323-4c5e-8344-8e8d642ed7b5",
   "metadata": {},
   "outputs": [
    {
     "data": {
      "text/plain": [
       "torch.Size([64, 256])"
      ]
     },
     "execution_count": 15,
     "metadata": {},
     "output_type": "execute_result"
    }
   ],
   "source": [
    "n = 2\n",
    "A = torch.rand(64, 256)\n",
    "linears = nn.Sequential(*[nn.Linear(256, 256) for i in range(n)])\n",
    "linears(A).shape"
   ]
  },
  {
   "cell_type": "code",
   "execution_count": 16,
   "id": "f2edf87c-c9a2-4e01-bb41-0186cfc6d705",
   "metadata": {},
   "outputs": [
    {
     "data": {
      "text/plain": [
       "tensor([[1., 1., 1., 1., 1., 1., 1., 1., 1., 1.],\n",
       "        [-inf, 1., 1., 1., 1., 1., 1., 1., 1., 1.],\n",
       "        [-inf, -inf, 1., 1., 1., 1., 1., 1., 1., 1.],\n",
       "        [-inf, -inf, -inf, 1., 1., 1., 1., 1., 1., 1.],\n",
       "        [-inf, -inf, -inf, -inf, 1., 1., 1., 1., 1., 1.],\n",
       "        [-inf, -inf, -inf, -inf, -inf, 1., 1., 1., 1., 1.],\n",
       "        [-inf, -inf, -inf, -inf, -inf, -inf, 1., 1., 1., 1.],\n",
       "        [-inf, -inf, -inf, -inf, -inf, -inf, -inf, 1., 1., 1.],\n",
       "        [-inf, -inf, -inf, -inf, -inf, -inf, -inf, -inf, 1., 1.],\n",
       "        [-inf, -inf, -inf, -inf, -inf, -inf, -inf, -inf, -inf, 1.]])"
      ]
     },
     "execution_count": 16,
     "metadata": {},
     "output_type": "execute_result"
    }
   ],
   "source": [
    "def mask(dim: (int, int)) -> Tensor :\n",
    "    mask = torch.ones(dim)\n",
    "    mask = torch.triu(mask, diagonal=0)\n",
    "    mask = torch.log(mask.T)\n",
    "    return mask\n",
    "\n",
    "\n",
    "A = torch.ones(10, 10)\n",
    "m = mask(A.shape)\n",
    "A += m\n",
    "A.transpose(-2, -1)"
   ]
  },
  {
   "cell_type": "code",
   "execution_count": 17,
   "id": "fdee14b9-2af0-4811-99f8-5607143a8e29",
   "metadata": {},
   "outputs": [
    {
     "name": "stdout",
     "output_type": "stream",
     "text": [
      "Q shape: torch.Size([38, 64])\n",
      "K, V shape: torch.Size([64, 64])\n"
     ]
    },
    {
     "data": {
      "text/plain": [
       "torch.Size([38, 64])"
      ]
     },
     "execution_count": 17,
     "metadata": {},
     "output_type": "execute_result"
    }
   ],
   "source": [
    "Y = torch.rand(38, 152)\n",
    "X = torch.rand(64, 256)\n",
    "\n",
    "W_q = nn.Linear(in_features=152, out_features=64)\n",
    "W_k = nn.Linear(in_features=256, out_features=64)\n",
    "W_v = nn.Linear(in_features=256, out_features=64)\n",
    "\n",
    "Q = W_q(Y)\n",
    "K = W_k(X)\n",
    "V = W_v(X)\n",
    "\n",
    "print(f\"Q shape: {Q.shape}\")\n",
    "print(f\"K, V shape: {K.shape}\")\n",
    "\n",
    "output = torch.matmul(torch.matmul(Q, K.T), V)\n",
    "output.shape"
   ]
  },
  {
   "cell_type": "code",
   "execution_count": 18,
   "id": "10cb49c1-a66b-492b-98fc-126e5ed53cba",
   "metadata": {},
   "outputs": [
    {
     "data": {
      "text/plain": [
       "(64, 256)"
      ]
     },
     "execution_count": 18,
     "metadata": {},
     "output_type": "execute_result"
    }
   ],
   "source": [
    "A = torch.rand(1, 1, 64, 256)\n",
    "b, c = A.shape[-2:]\n",
    "b, c"
   ]
  },
  {
   "cell_type": "code",
   "execution_count": 19,
   "id": "f1e3f1c3-949f-4bfc-b7ba-7d36280c5e58",
   "metadata": {},
   "outputs": [
    {
     "data": {
      "text/plain": [
       "tensor([0.])"
      ]
     },
     "execution_count": 19,
     "metadata": {},
     "output_type": "execute_result"
    }
   ],
   "source": [
    "a = torch.Tensor([1])\n",
    "\n",
    "torch.exp(-a/0)"
   ]
  },
  {
   "cell_type": "code",
   "execution_count": 34,
   "id": "82782e1b-e7d9-4ddf-83ba-01b72666f588",
   "metadata": {},
   "outputs": [
    {
     "data": {
      "text/plain": [
       "torch.Size([1, 1, 64, 256])"
      ]
     },
     "execution_count": 34,
     "metadata": {},
     "output_type": "execute_result"
    }
   ],
   "source": [
    "X = torch.rand(1, 1, 64, 256)\n",
    "Y = torch.rand(1, 1, 64, 256)\n",
    "m_list = nn.ModuleList([DecoderBlock(dim_shape_tgt=(1, 1, 64, 256), dim_shape_mem=(1, 1, 64, 256)) for _ in range(4)])\n",
    "for m in m_list:\n",
    "    Y = m(X, Y)\n",
    "Y.shape"
   ]
  },
  {
   "cell_type": "code",
   "execution_count": null,
   "id": "a0cf0f4f-cb9d-431f-8149-89ab98ff7842",
   "metadata": {},
   "outputs": [],
   "source": [
    "target = torch.randn(1, 152) # (N, S) where N =batch size and S = max target length \n",
    "\n",
    "outputs = torch.randn(1, 1, 64, 256) # Tensor of size (T, N, C), where T = input length, N = batch size, and C = number of classes (including blank)\n",
    "b, c, h, w = outputs.shape\n",
    "outputs = outputs.view()\n",
    "\n",
    "\n",
    "\n",
    "ctc_loss = nn.CTCLoss(zero_infinity=False, reduction=\"none\")\n",
    "loss = ctc_loss(outputs, target, )"
   ]
  },
  {
   "cell_type": "code",
   "execution_count": 46,
   "id": "72ff6f04-b2cf-4606-9f2b-0708ad093fa2",
   "metadata": {},
   "outputs": [
    {
     "name": "stdout",
     "output_type": "stream",
     "text": [
      "Input: torch.Size([256, 1, 38])\n",
      "Target: torch.Size([1, 64])\n",
      "input lengths: tensor([256])\n",
      "target lengths: tensor([63])\n"
     ]
    }
   ],
   "source": [
    "T = 256      # Input sequence length\n",
    "C = 38      # Number of classes (including blank)\n",
    "N = 1      # Batch size\n",
    "S = 64      # Target sequence length of longest target in batch (padding length)\n",
    "S_min = 10  # Minimum target length, for demonstration purposes\n",
    "\n",
    "# Initialize random batch of input vectors, for *size = (T,N,C)\n",
    "input = torch.randn(T, N, C).log_softmax(2).detach().requires_grad_()\n",
    "print(\"Input:\", input.shape)\n",
    "\n",
    "# Initialize random batch of targets (0 = blank, 1:C = classes)\n",
    "target = torch.randint(low=1, high=C, size=(N, S), dtype=torch.long)\n",
    "print(\"Target:\", target.shape)\n",
    "\n",
    "input_lengths = torch.full(size=(N,), fill_value=T, dtype=torch.long)\n",
    "target_lengths = torch.randint(low=S_min, high=S, size=(N,), dtype=torch.long)\n",
    "print(\"input lengths:\", input_lengths)\n",
    "print(\"target lengths:\", target_lengths)\n",
    "\n",
    "ctc_loss = nn.CTCLoss(zero_infinity=False, reduction='none')\n",
    "loss = ctc_loss(input, target, input_lengths, target_lengths)\n",
    "loss.backward()"
   ]
  },
  {
   "cell_type": "code",
   "execution_count": 48,
   "id": "378fc003-091c-49ae-aa1b-63be0114732f",
   "metadata": {},
   "outputs": [
    {
     "name": "stdout",
     "output_type": "stream",
     "text": [
      "torch.Size([1])\n",
      "tensor([38])\n",
      "torch.Size([1])\n",
      "tensor([64])\n"
     ]
    }
   ],
   "source": []
  },
  {
   "cell_type": "code",
   "execution_count": null,
   "id": "2e15c3cb-c9eb-4853-8e26-bfe378373645",
   "metadata": {},
   "outputs": [],
   "source": []
  }
 ],
 "metadata": {
  "kernelspec": {
   "display_name": "Python 3 (ipykernel)",
   "language": "python",
   "name": "python3"
  },
  "language_info": {
   "codemirror_mode": {
    "name": "ipython",
    "version": 3
   },
   "file_extension": ".py",
   "mimetype": "text/x-python",
   "name": "python",
   "nbconvert_exporter": "python",
   "pygments_lexer": "ipython3",
   "version": "3.9.2"
  }
 },
 "nbformat": 4,
 "nbformat_minor": 5
}
