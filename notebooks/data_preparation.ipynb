{
 "cells": [
  {
   "cell_type": "code",
   "execution_count": 1,
   "id": "66b1a369-9e28-4b52-b646-35443139b7d7",
   "metadata": {},
   "outputs": [],
   "source": [
    "#!pip install Pillow\n",
    "#!pip install tqdm"
   ]
  },
  {
   "cell_type": "code",
   "execution_count": 2,
   "id": "cffa362e-a439-481a-bb69-f2f2130f108c",
   "metadata": {},
   "outputs": [],
   "source": [
    "import os\n",
    "\n",
    "import torch\n",
    "from PIL import Image as PImage, ImageOps\n",
    "import numpy as np\n",
    "import pandas as pd\n",
    "import string\n",
    "from tqdm import tqdm\n",
    "\n",
    "from IPython.display import Image\n",
    "import matplotlib.pyplot as plt"
   ]
  },
  {
   "cell_type": "code",
   "execution_count": 3,
   "id": "3ce2ac8e-319e-4d50-80b4-75cbe994ba22",
   "metadata": {},
   "outputs": [],
   "source": [
    "DATA_DIR = \"D:\\\\ML\\\\Speech recognition\\\\NLP_diploma\\\\uk\""
   ]
  },
  {
   "cell_type": "code",
   "execution_count": 4,
   "id": "7c7b0695-3765-40f0-975a-6cb3faeea8cc",
   "metadata": {},
   "outputs": [
    {
     "data": {
      "text/html": [
       "<div>\n",
       "<style scoped>\n",
       "    .dataframe tbody tr th:only-of-type {\n",
       "        vertical-align: middle;\n",
       "    }\n",
       "\n",
       "    .dataframe tbody tr th {\n",
       "        vertical-align: top;\n",
       "    }\n",
       "\n",
       "    .dataframe thead th {\n",
       "        text-align: right;\n",
       "    }\n",
       "</style>\n",
       "<table border=\"1\" class=\"dataframe\">\n",
       "  <thead>\n",
       "    <tr style=\"text-align: right;\">\n",
       "      <th></th>\n",
       "      <th>path</th>\n",
       "      <th>sentence</th>\n",
       "      <th>spectro_path</th>\n",
       "    </tr>\n",
       "  </thead>\n",
       "  <tbody>\n",
       "    <tr>\n",
       "      <th>0</th>\n",
       "      <td>common_voice_uk_23566158.mp3</td>\n",
       "      <td>Московитам дозволено створити свою державу, а ...</td>\n",
       "      <td>train_spectrograms\\common_voice_uk_23566158.jpg</td>\n",
       "    </tr>\n",
       "    <tr>\n",
       "      <th>1</th>\n",
       "      <td>common_voice_uk_23566162.mp3</td>\n",
       "      <td>Патріарх Іоасаф визнав Івана царем і нащадком ...</td>\n",
       "      <td>train_spectrograms\\common_voice_uk_23566162.jpg</td>\n",
       "    </tr>\n",
       "    <tr>\n",
       "      <th>2</th>\n",
       "      <td>common_voice_uk_23566225.mp3</td>\n",
       "      <td>Автор просить читачів звернути увагу на братів...</td>\n",
       "      <td>train_spectrograms\\common_voice_uk_23566225.jpg</td>\n",
       "    </tr>\n",
       "    <tr>\n",
       "      <th>3</th>\n",
       "      <td>common_voice_uk_23566302.mp3</td>\n",
       "      <td>Це – незаперечна аксіома</td>\n",
       "      <td>train_spectrograms\\common_voice_uk_23566302.jpg</td>\n",
       "    </tr>\n",
       "    <tr>\n",
       "      <th>4</th>\n",
       "      <td>common_voice_uk_23566305.mp3</td>\n",
       "      <td>Ліпше чути заперечення мудрих, аніж підтакуван...</td>\n",
       "      <td>train_spectrograms\\common_voice_uk_23566305.jpg</td>\n",
       "    </tr>\n",
       "    <tr>\n",
       "      <th>...</th>\n",
       "      <td>...</td>\n",
       "      <td>...</td>\n",
       "      <td>...</td>\n",
       "    </tr>\n",
       "    <tr>\n",
       "      <th>4030</th>\n",
       "      <td>common_voice_uk_23979850.mp3</td>\n",
       "      <td>— А що в тому саду видиш?</td>\n",
       "      <td>train_spectrograms\\common_voice_uk_23979850.jpg</td>\n",
       "    </tr>\n",
       "    <tr>\n",
       "      <th>4031</th>\n",
       "      <td>common_voice_uk_23979853.mp3</td>\n",
       "      <td>— Хто ж несе мені сі слова від імператора захі...</td>\n",
       "      <td>train_spectrograms\\common_voice_uk_23979853.jpg</td>\n",
       "    </tr>\n",
       "    <tr>\n",
       "      <th>4032</th>\n",
       "      <td>common_voice_uk_23979859.mp3</td>\n",
       "      <td>— Коней треба кувати.</td>\n",
       "      <td>train_spectrograms\\common_voice_uk_23979859.jpg</td>\n",
       "    </tr>\n",
       "    <tr>\n",
       "      <th>4033</th>\n",
       "      <td>common_voice_uk_23979860.mp3</td>\n",
       "      <td>— То є Пошогод, — шепнув Богданові Ждан. — Наш...</td>\n",
       "      <td>train_spectrograms\\common_voice_uk_23979860.jpg</td>\n",
       "    </tr>\n",
       "    <tr>\n",
       "      <th>4034</th>\n",
       "      <td>common_voice_uk_23979861.mp3</td>\n",
       "      <td>Богдан хитнув головою в бік городу.</td>\n",
       "      <td>train_spectrograms\\common_voice_uk_23979861.jpg</td>\n",
       "    </tr>\n",
       "  </tbody>\n",
       "</table>\n",
       "<p>4035 rows × 3 columns</p>\n",
       "</div>"
      ],
      "text/plain": [
       "                              path  \\\n",
       "0     common_voice_uk_23566158.mp3   \n",
       "1     common_voice_uk_23566162.mp3   \n",
       "2     common_voice_uk_23566225.mp3   \n",
       "3     common_voice_uk_23566302.mp3   \n",
       "4     common_voice_uk_23566305.mp3   \n",
       "...                            ...   \n",
       "4030  common_voice_uk_23979850.mp3   \n",
       "4031  common_voice_uk_23979853.mp3   \n",
       "4032  common_voice_uk_23979859.mp3   \n",
       "4033  common_voice_uk_23979860.mp3   \n",
       "4034  common_voice_uk_23979861.mp3   \n",
       "\n",
       "                                               sentence  \\\n",
       "0     Московитам дозволено створити свою державу, а ...   \n",
       "1     Патріарх Іоасаф визнав Івана царем і нащадком ...   \n",
       "2     Автор просить читачів звернути увагу на братів...   \n",
       "3                              Це – незаперечна аксіома   \n",
       "4     Ліпше чути заперечення мудрих, аніж підтакуван...   \n",
       "...                                                 ...   \n",
       "4030                          — А що в тому саду видиш?   \n",
       "4031  — Хто ж несе мені сі слова від імператора захі...   \n",
       "4032                              — Коней треба кувати.   \n",
       "4033  — То є Пошогод, — шепнув Богданові Ждан. — Наш...   \n",
       "4034                Богдан хитнув головою в бік городу.   \n",
       "\n",
       "                                         spectro_path  \n",
       "0     train_spectrograms\\common_voice_uk_23566158.jpg  \n",
       "1     train_spectrograms\\common_voice_uk_23566162.jpg  \n",
       "2     train_spectrograms\\common_voice_uk_23566225.jpg  \n",
       "3     train_spectrograms\\common_voice_uk_23566302.jpg  \n",
       "4     train_spectrograms\\common_voice_uk_23566305.jpg  \n",
       "...                                               ...  \n",
       "4030  train_spectrograms\\common_voice_uk_23979850.jpg  \n",
       "4031  train_spectrograms\\common_voice_uk_23979853.jpg  \n",
       "4032  train_spectrograms\\common_voice_uk_23979859.jpg  \n",
       "4033  train_spectrograms\\common_voice_uk_23979860.jpg  \n",
       "4034  train_spectrograms\\common_voice_uk_23979861.jpg  \n",
       "\n",
       "[4035 rows x 3 columns]"
      ]
     },
     "execution_count": 4,
     "metadata": {},
     "output_type": "execute_result"
    }
   ],
   "source": [
    "train_df = pd.read_csv(os.path.join(DATA_DIR, \"train.tsv\"), sep=\"\\t\")\n",
    "train_df = train_df[[\"path\", \"sentence\"]]\n",
    "\n",
    "def mp3_path_to_jpg_path(mp3_path):\n",
    "    file_name = mp3_path.rsplit(\".\", 1)[0]\n",
    "    file_name += \".jpg\"\n",
    "    path = os.path.join(\"train_spectrograms\", file_name)\n",
    "    return path\n",
    "\n",
    "train_df[\"spectro_path\"] = [mp3_path_to_jpg_path(row[\"path\"]) for _, row in train_df.iterrows()]\n",
    "train_df"
   ]
  },
  {
   "cell_type": "code",
   "execution_count": 24,
   "id": "b122ec89-70fe-47a6-a706-044ab0ce9a88",
   "metadata": {},
   "outputs": [
    {
     "name": "stdout",
     "output_type": "stream",
     "text": [
      "(256, 541)\n"
     ]
    },
    {
     "data": {
      "text/plain": [
       "<matplotlib.image.AxesImage at 0x20cfad41f40>"
      ]
     },
     "execution_count": 24,
     "metadata": {},
     "output_type": "execute_result"
    },
    {
     "data": {
      "image/png": "[encoded data removed]",
      "text/plain": [
       "<Figure size 864x360 with 1 Axes>"
      ]
     },
     "metadata": {
      "needs_background": "light"
     },
     "output_type": "display_data"
    }
   ],
   "source": [
    "def img_to_array(data_dir, spectro_path, shape=None, fill=0):\n",
    "    result = None\n",
    "    img_path = os.path.join(data_dir, spectro_path)\n",
    "    img = PImage.open(img_path)\n",
    "    img = ImageOps.grayscale(img)\n",
    "    if img and shape:\n",
    "        result = np.zeros(shape) + fill\n",
    "        arr = np.array(np.asarray(img))\n",
    "        rows = arr.shape[0]\n",
    "        cols = arr.shape[1]\n",
    "        result[:rows, :cols] = arr\n",
    "    elif img:\n",
    "        result = np.array(np.asarray(img))\n",
    "    return result\n",
    "\n",
    "idx = 1\n",
    "image_array = img_to_array(DATA_DIR, train_df.iloc[idx][\"spectro_path\"])\n",
    "print(image_array.shape)\n",
    "\n",
    "plt.figure(figsize=(12, 5))\n",
    "plt.imshow(image_array, cmap=plt.get_cmap('gray')) "
   ]
  },
  {
   "cell_type": "markdown",
   "id": "76e51207-bbb4-43f8-b5e8-6bc1c72cba98",
   "metadata": {},
   "source": [
    "# Кол-во занимаемых гигабайт при выделении памяти под тренировочный датасет"
   ]
  },
  {
   "cell_type": "code",
   "execution_count": 6,
   "id": "de0b1f25-e7dc-4dfa-9d6c-b53e437f8f67",
   "metadata": {},
   "outputs": [
    {
     "data": {
      "text/plain": [
       "3.9404296875"
      ]
     },
     "execution_count": 6,
     "metadata": {},
     "output_type": "execute_result"
    }
   ],
   "source": [
    "bytes_per_type = 4\n",
    "bytes_ = 4035*256*1024*bytes_per_type\n",
    "gb = bytes_ / 1024**3\n",
    "gb "
   ]
  },
  {
   "cell_type": "code",
   "execution_count": 7,
   "id": "cc3dbf04-6d56-4021-abd2-f1845b134a5c",
   "metadata": {},
   "outputs": [
    {
     "name": "stdout",
     "output_type": "stream",
     "text": [
      "(256, 514)\n",
      "Inputs min: <built-in function min>\n",
      "Inputs shape: (4035, 256, 1024)\n"
     ]
    }
   ],
   "source": [
    "idx = 13\n",
    "image_array = img_to_array(DATA_DIR, train_df.iloc[idx][\"spectro_path\"])\n",
    "print(image_array.shape)\n",
    "\n",
    "d_model = 1024\n",
    "n_feats = image_array.shape[0]\n",
    "\n",
    "inputs = np.zeros((len(train_df), n_feats, d_model), dtype=\"uint8\")\n",
    "inputs += 30 # is an empty space number in the spectrogram\n",
    "\n",
    "for idx, spectro_path in enumerate(train_df[\"spectro_path\"]):\n",
    "    pixels = img_to_array(DATA_DIR, \n",
    "                          spectro_path, \n",
    "                          shape=(n_feats, d_model), \n",
    "                          fill=30)\n",
    "    inputs[idx] = pixels\n",
    "    \n",
    "print(f\"Inputs min: {min}\")\n",
    "print(f\"Inputs shape: {inputs.shape}\")"
   ]
  },
  {
   "cell_type": "code",
   "execution_count": 8,
   "id": "dbf154aa-6f3d-49cf-9d68-d140acc3ec5d",
   "metadata": {},
   "outputs": [
    {
     "data": {
      "text/plain": [
       "<matplotlib.image.AxesImage at 0x20cf8c07790>"
      ]
     },
     "execution_count": 8,
     "metadata": {},
     "output_type": "execute_result"
    },
    {
     "data": {
      "image/png": "[encoded data removed]",
      "text/plain": [
       "<Figure size 864x360 with 1 Axes>"
      ]
     },
     "metadata": {
      "needs_background": "light"
     },
     "output_type": "display_data"
    }
   ],
   "source": [
    "plt.figure(figsize=(12, 5))\n",
    "plt.imshow(inputs[11], cmap=plt.get_cmap('gray')) "
   ]
  },
  {
   "cell_type": "code",
   "execution_count": 9,
   "id": "055fbcb1-7df7-4e1d-a92a-5999f0fe1d5e",
   "metadata": {},
   "outputs": [
    {
     "data": {
      "text/plain": [
       "(538430, 301)"
      ]
     },
     "execution_count": 9,
     "metadata": {},
     "output_type": "execute_result"
    }
   ],
   "source": [
    "embeddings_raw = pd.read_csv(os.path.join(DATA_DIR, \"ubercorpus.lowercased.tokenized.word2vec.300d\"), sep=\" \")\n",
    "embeddings_raw.shape"
   ]
  },
  {
   "cell_type": "code",
   "execution_count": 10,
   "id": "22fb0ee7-0ab0-4370-9d28-f38cd5cd4ed4",
   "metadata": {},
   "outputs": [
    {
     "name": "stdout",
     "output_type": "stream",
     "text": [
      "Total words: 538428\n",
      "Unique words: 538428\n"
     ]
    },
    {
     "data": {
      "text/plain": [
       "Index(['word',      0,      1,      2,      3,      4,      5,      6,      7,\n",
       "            8,\n",
       "       ...\n",
       "          290,    291,    292,    293,    294,    295,    296,    297,    298,\n",
       "          299],\n",
       "      dtype='object', length=301)"
      ]
     },
     "execution_count": 10,
     "metadata": {},
     "output_type": "execute_result"
    }
   ],
   "source": [
    "embeddings_raw.columns = [\"word\"] + [i for i in range(300)]\n",
    "embeddings_raw = embeddings_raw.dropna(subset = [\"word\"])\n",
    "\n",
    "words = []\n",
    "for raw_word in embeddings_raw[\"word\"]:\n",
    "    try:\n",
    "        w = raw_word.replace(\"'\", \"\")\n",
    "        w = raw_word.replace(\"’\", \"\")\n",
    "        words.append(w)\n",
    "    except:\n",
    "        print(raw_word, end=\"\\t\") \n",
    "embeddings_raw[\"word\"] = words\n",
    "embeddings_raw = embeddings_raw.drop_duplicates(subset=[\"word\"])\n",
    "print(\"Total words:\", len(embeddings_raw))\n",
    "print(\"Unique words:\", embeddings_raw[\"word\"].nunique())\n",
    "embeddings_raw.columns"
   ]
  },
  {
   "cell_type": "code",
   "execution_count": 11,
   "id": "1b0f3fb3-7349-428f-a28f-ca97647bf65b",
   "metadata": {},
   "outputs": [
    {
     "name": "stdout",
     "output_type": "stream",
     "text": [
      "Index(['word',      0,      1,      2,      3,      4,      5,      6,      7,\n",
      "            8,\n",
      "       ...\n",
      "          290,    291,    292,    293,    294,    295,    296,    297,    298,\n",
      "          299],\n",
      "      dtype='object', length=301)\n"
     ]
    },
    {
     "data": {
      "text/plain": [
       "Index(['на', 'у', 'і', 'з', 'що', 'не', 'до', 'за', 'та', 'про',\n",
       "       ...\n",
       "       'припустимість', 'сальниця', 'pontificalis', 'хазе', 'арумом',\n",
       "       'аксонеми', 'autoit', 'теперiшнього', 'потроїли', 'гусаром'],\n",
       "      dtype='object', name='word', length=538428)"
      ]
     },
     "execution_count": 11,
     "metadata": {},
     "output_type": "execute_result"
    }
   ],
   "source": [
    "print(embeddings_raw.columns)\n",
    "embeddings = embeddings_raw.set_index(\"word\")\n",
    "embeddings.index"
   ]
  },
  {
   "cell_type": "code",
   "execution_count": 12,
   "id": "a83c40b1-5692-4430-8fb5-d32e75dcc6f8",
   "metadata": {},
   "outputs": [
    {
     "name": "stdout",
     "output_type": "stream",
     "text": [
      "Embeddings shape before cleaning: (538428, 300)\n"
     ]
    },
    {
     "name": "stderr",
     "output_type": "stream",
     "text": [
      "  0%|▍                                                                                                                                                                                            | 1327/538428 [00:42<4:45:16, 31.38it/s]\n"
     ]
    },
    {
     "ename": "KeyboardInterrupt",
     "evalue": "",
     "output_type": "error",
     "traceback": [
      "\u001b[1;31m---------------------------------------------------------------------------\u001b[0m",
      "\u001b[1;31mKeyboardInterrupt\u001b[0m                         Traceback (most recent call last)",
      "\u001b[1;32m~\\AppData\\Local\\Temp/ipykernel_10528/575379090.py\u001b[0m in \u001b[0;36m<module>\u001b[1;34m\u001b[0m\n\u001b[0;32m     10\u001b[0m     \u001b[1;32mfor\u001b[0m \u001b[0mc\u001b[0m \u001b[1;32min\u001b[0m \u001b[0mword\u001b[0m\u001b[1;33m:\u001b[0m\u001b[1;33m\u001b[0m\u001b[1;33m\u001b[0m\u001b[0m\n\u001b[0;32m     11\u001b[0m         \u001b[1;32mif\u001b[0m \u001b[0mc\u001b[0m \u001b[1;32mnot\u001b[0m \u001b[1;32min\u001b[0m \u001b[0malphabet\u001b[0m\u001b[1;33m:\u001b[0m\u001b[1;33m\u001b[0m\u001b[1;33m\u001b[0m\u001b[0m\n\u001b[1;32m---> 12\u001b[1;33m             \u001b[0memb_copy\u001b[0m \u001b[1;33m=\u001b[0m \u001b[0memb_copy\u001b[0m\u001b[1;33m.\u001b[0m\u001b[0mdrop\u001b[0m\u001b[1;33m(\u001b[0m\u001b[0mword\u001b[0m\u001b[1;33m)\u001b[0m\u001b[1;33m\u001b[0m\u001b[1;33m\u001b[0m\u001b[0m\n\u001b[0m\u001b[0;32m     13\u001b[0m             \u001b[1;32mbreak\u001b[0m\u001b[1;33m\u001b[0m\u001b[1;33m\u001b[0m\u001b[0m\n\u001b[0;32m     14\u001b[0m \u001b[0mprint\u001b[0m\u001b[1;33m(\u001b[0m\u001b[1;34m\"Embeddings shape after cleaning:\"\u001b[0m\u001b[1;33m,\u001b[0m \u001b[0memb_copy\u001b[0m\u001b[1;33m.\u001b[0m\u001b[0mshape\u001b[0m\u001b[1;33m)\u001b[0m\u001b[1;33m\u001b[0m\u001b[1;33m\u001b[0m\u001b[0m\n",
      "\u001b[1;32md:\\ml\\speech recognition\\nlp_diploma\\asr proto\\asr proto\\venv\\lib\\site-packages\\pandas\\util\\_decorators.py\u001b[0m in \u001b[0;36mwrapper\u001b[1;34m(*args, **kwargs)\u001b[0m\n\u001b[0;32m    309\u001b[0m                     \u001b[0mstacklevel\u001b[0m\u001b[1;33m=\u001b[0m\u001b[0mstacklevel\u001b[0m\u001b[1;33m,\u001b[0m\u001b[1;33m\u001b[0m\u001b[1;33m\u001b[0m\u001b[0m\n\u001b[0;32m    310\u001b[0m                 )\n\u001b[1;32m--> 311\u001b[1;33m             \u001b[1;32mreturn\u001b[0m \u001b[0mfunc\u001b[0m\u001b[1;33m(\u001b[0m\u001b[1;33m*\u001b[0m\u001b[0margs\u001b[0m\u001b[1;33m,\u001b[0m \u001b[1;33m**\u001b[0m\u001b[0mkwargs\u001b[0m\u001b[1;33m)\u001b[0m\u001b[1;33m\u001b[0m\u001b[1;33m\u001b[0m\u001b[0m\n\u001b[0m\u001b[0;32m    312\u001b[0m \u001b[1;33m\u001b[0m\u001b[0m\n\u001b[0;32m    313\u001b[0m         \u001b[1;32mreturn\u001b[0m \u001b[0mwrapper\u001b[0m\u001b[1;33m\u001b[0m\u001b[1;33m\u001b[0m\u001b[0m\n",
      "\u001b[1;32md:\\ml\\speech recognition\\nlp_diploma\\asr proto\\asr proto\\venv\\lib\\site-packages\\pandas\\core\\frame.py\u001b[0m in \u001b[0;36mdrop\u001b[1;34m(self, labels, axis, index, columns, level, inplace, errors)\u001b[0m\n\u001b[0;32m   4904\u001b[0m                 \u001b[0mweight\u001b[0m  \u001b[1;36m1.0\u001b[0m     \u001b[1;36m0.8\u001b[0m\u001b[1;33m\u001b[0m\u001b[1;33m\u001b[0m\u001b[0m\n\u001b[0;32m   4905\u001b[0m         \"\"\"\n\u001b[1;32m-> 4906\u001b[1;33m         return super().drop(\n\u001b[0m\u001b[0;32m   4907\u001b[0m             \u001b[0mlabels\u001b[0m\u001b[1;33m=\u001b[0m\u001b[0mlabels\u001b[0m\u001b[1;33m,\u001b[0m\u001b[1;33m\u001b[0m\u001b[1;33m\u001b[0m\u001b[0m\n\u001b[0;32m   4908\u001b[0m             \u001b[0maxis\u001b[0m\u001b[1;33m=\u001b[0m\u001b[0maxis\u001b[0m\u001b[1;33m,\u001b[0m\u001b[1;33m\u001b[0m\u001b[1;33m\u001b[0m\u001b[0m\n",
      "\u001b[1;32md:\\ml\\speech recognition\\nlp_diploma\\asr proto\\asr proto\\venv\\lib\\site-packages\\pandas\\core\\generic.py\u001b[0m in \u001b[0;36mdrop\u001b[1;34m(self, labels, axis, index, columns, level, inplace, errors)\u001b[0m\n\u001b[0;32m   4148\u001b[0m         \u001b[1;32mfor\u001b[0m \u001b[0maxis\u001b[0m\u001b[1;33m,\u001b[0m \u001b[0mlabels\u001b[0m \u001b[1;32min\u001b[0m \u001b[0maxes\u001b[0m\u001b[1;33m.\u001b[0m\u001b[0mitems\u001b[0m\u001b[1;33m(\u001b[0m\u001b[1;33m)\u001b[0m\u001b[1;33m:\u001b[0m\u001b[1;33m\u001b[0m\u001b[1;33m\u001b[0m\u001b[0m\n\u001b[0;32m   4149\u001b[0m             \u001b[1;32mif\u001b[0m \u001b[0mlabels\u001b[0m \u001b[1;32mis\u001b[0m \u001b[1;32mnot\u001b[0m \u001b[1;32mNone\u001b[0m\u001b[1;33m:\u001b[0m\u001b[1;33m\u001b[0m\u001b[1;33m\u001b[0m\u001b[0m\n\u001b[1;32m-> 4150\u001b[1;33m                 \u001b[0mobj\u001b[0m \u001b[1;33m=\u001b[0m \u001b[0mobj\u001b[0m\u001b[1;33m.\u001b[0m\u001b[0m_drop_axis\u001b[0m\u001b[1;33m(\u001b[0m\u001b[0mlabels\u001b[0m\u001b[1;33m,\u001b[0m \u001b[0maxis\u001b[0m\u001b[1;33m,\u001b[0m \u001b[0mlevel\u001b[0m\u001b[1;33m=\u001b[0m\u001b[0mlevel\u001b[0m\u001b[1;33m,\u001b[0m \u001b[0merrors\u001b[0m\u001b[1;33m=\u001b[0m\u001b[0merrors\u001b[0m\u001b[1;33m)\u001b[0m\u001b[1;33m\u001b[0m\u001b[1;33m\u001b[0m\u001b[0m\n\u001b[0m\u001b[0;32m   4151\u001b[0m \u001b[1;33m\u001b[0m\u001b[0m\n\u001b[0;32m   4152\u001b[0m         \u001b[1;32mif\u001b[0m \u001b[0minplace\u001b[0m\u001b[1;33m:\u001b[0m\u001b[1;33m\u001b[0m\u001b[1;33m\u001b[0m\u001b[0m\n",
      "\u001b[1;32md:\\ml\\speech recognition\\nlp_diploma\\asr proto\\asr proto\\venv\\lib\\site-packages\\pandas\\core\\generic.py\u001b[0m in \u001b[0;36m_drop_axis\u001b[1;34m(self, labels, axis, level, errors)\u001b[0m\n\u001b[0;32m   4184\u001b[0m             \u001b[1;32melse\u001b[0m\u001b[1;33m:\u001b[0m\u001b[1;33m\u001b[0m\u001b[1;33m\u001b[0m\u001b[0m\n\u001b[0;32m   4185\u001b[0m                 \u001b[0mnew_axis\u001b[0m \u001b[1;33m=\u001b[0m \u001b[0maxis\u001b[0m\u001b[1;33m.\u001b[0m\u001b[0mdrop\u001b[0m\u001b[1;33m(\u001b[0m\u001b[0mlabels\u001b[0m\u001b[1;33m,\u001b[0m \u001b[0merrors\u001b[0m\u001b[1;33m=\u001b[0m\u001b[0merrors\u001b[0m\u001b[1;33m)\u001b[0m\u001b[1;33m\u001b[0m\u001b[1;33m\u001b[0m\u001b[0m\n\u001b[1;32m-> 4186\u001b[1;33m             \u001b[0mresult\u001b[0m \u001b[1;33m=\u001b[0m \u001b[0mself\u001b[0m\u001b[1;33m.\u001b[0m\u001b[0mreindex\u001b[0m\u001b[1;33m(\u001b[0m\u001b[1;33m**\u001b[0m\u001b[1;33m{\u001b[0m\u001b[0maxis_name\u001b[0m\u001b[1;33m:\u001b[0m \u001b[0mnew_axis\u001b[0m\u001b[1;33m}\u001b[0m\u001b[1;33m)\u001b[0m\u001b[1;33m\u001b[0m\u001b[1;33m\u001b[0m\u001b[0m\n\u001b[0m\u001b[0;32m   4187\u001b[0m \u001b[1;33m\u001b[0m\u001b[0m\n\u001b[0;32m   4188\u001b[0m         \u001b[1;31m# Case for non-unique axis\u001b[0m\u001b[1;33m\u001b[0m\u001b[1;33m\u001b[0m\u001b[1;33m\u001b[0m\u001b[0m\n",
      "\u001b[1;32md:\\ml\\speech recognition\\nlp_diploma\\asr proto\\asr proto\\venv\\lib\\site-packages\\pandas\\util\\_decorators.py\u001b[0m in \u001b[0;36mwrapper\u001b[1;34m(*args, **kwargs)\u001b[0m\n\u001b[0;32m    322\u001b[0m         \u001b[1;33m@\u001b[0m\u001b[0mwraps\u001b[0m\u001b[1;33m(\u001b[0m\u001b[0mfunc\u001b[0m\u001b[1;33m)\u001b[0m\u001b[1;33m\u001b[0m\u001b[1;33m\u001b[0m\u001b[0m\n\u001b[0;32m    323\u001b[0m         \u001b[1;32mdef\u001b[0m \u001b[0mwrapper\u001b[0m\u001b[1;33m(\u001b[0m\u001b[1;33m*\u001b[0m\u001b[0margs\u001b[0m\u001b[1;33m,\u001b[0m \u001b[1;33m**\u001b[0m\u001b[0mkwargs\u001b[0m\u001b[1;33m)\u001b[0m \u001b[1;33m->\u001b[0m \u001b[0mCallable\u001b[0m\u001b[1;33m[\u001b[0m\u001b[1;33m...\u001b[0m\u001b[1;33m,\u001b[0m \u001b[0mAny\u001b[0m\u001b[1;33m]\u001b[0m\u001b[1;33m:\u001b[0m\u001b[1;33m\u001b[0m\u001b[1;33m\u001b[0m\u001b[0m\n\u001b[1;32m--> 324\u001b[1;33m             \u001b[1;32mreturn\u001b[0m \u001b[0mfunc\u001b[0m\u001b[1;33m(\u001b[0m\u001b[1;33m*\u001b[0m\u001b[0margs\u001b[0m\u001b[1;33m,\u001b[0m \u001b[1;33m**\u001b[0m\u001b[0mkwargs\u001b[0m\u001b[1;33m)\u001b[0m\u001b[1;33m\u001b[0m\u001b[1;33m\u001b[0m\u001b[0m\n\u001b[0m\u001b[0;32m    325\u001b[0m \u001b[1;33m\u001b[0m\u001b[0m\n\u001b[0;32m    326\u001b[0m         \u001b[0mkind\u001b[0m \u001b[1;33m=\u001b[0m \u001b[0minspect\u001b[0m\u001b[1;33m.\u001b[0m\u001b[0mParameter\u001b[0m\u001b[1;33m.\u001b[0m\u001b[0mPOSITIONAL_OR_KEYWORD\u001b[0m\u001b[1;33m\u001b[0m\u001b[1;33m\u001b[0m\u001b[0m\n",
      "\u001b[1;32md:\\ml\\speech recognition\\nlp_diploma\\asr proto\\asr proto\\venv\\lib\\site-packages\\pandas\\core\\frame.py\u001b[0m in \u001b[0;36mreindex\u001b[1;34m(self, *args, **kwargs)\u001b[0m\n\u001b[0;32m   4770\u001b[0m         \u001b[0mkwargs\u001b[0m\u001b[1;33m.\u001b[0m\u001b[0mpop\u001b[0m\u001b[1;33m(\u001b[0m\u001b[1;34m\"axis\"\u001b[0m\u001b[1;33m,\u001b[0m \u001b[1;32mNone\u001b[0m\u001b[1;33m)\u001b[0m\u001b[1;33m\u001b[0m\u001b[1;33m\u001b[0m\u001b[0m\n\u001b[0;32m   4771\u001b[0m         \u001b[0mkwargs\u001b[0m\u001b[1;33m.\u001b[0m\u001b[0mpop\u001b[0m\u001b[1;33m(\u001b[0m\u001b[1;34m\"labels\"\u001b[0m\u001b[1;33m,\u001b[0m \u001b[1;32mNone\u001b[0m\u001b[1;33m)\u001b[0m\u001b[1;33m\u001b[0m\u001b[1;33m\u001b[0m\u001b[0m\n\u001b[1;32m-> 4772\u001b[1;33m         \u001b[1;32mreturn\u001b[0m \u001b[0msuper\u001b[0m\u001b[1;33m(\u001b[0m\u001b[1;33m)\u001b[0m\u001b[1;33m.\u001b[0m\u001b[0mreindex\u001b[0m\u001b[1;33m(\u001b[0m\u001b[1;33m**\u001b[0m\u001b[0mkwargs\u001b[0m\u001b[1;33m)\u001b[0m\u001b[1;33m\u001b[0m\u001b[1;33m\u001b[0m\u001b[0m\n\u001b[0m\u001b[0;32m   4773\u001b[0m \u001b[1;33m\u001b[0m\u001b[0m\n\u001b[0;32m   4774\u001b[0m     \u001b[1;33m@\u001b[0m\u001b[0mdeprecate_nonkeyword_arguments\u001b[0m\u001b[1;33m(\u001b[0m\u001b[0mversion\u001b[0m\u001b[1;33m=\u001b[0m\u001b[1;32mNone\u001b[0m\u001b[1;33m,\u001b[0m \u001b[0mallowed_args\u001b[0m\u001b[1;33m=\u001b[0m\u001b[1;33m[\u001b[0m\u001b[1;34m\"self\"\u001b[0m\u001b[1;33m,\u001b[0m \u001b[1;34m\"labels\"\u001b[0m\u001b[1;33m]\u001b[0m\u001b[1;33m)\u001b[0m\u001b[1;33m\u001b[0m\u001b[1;33m\u001b[0m\u001b[0m\n",
      "\u001b[1;32md:\\ml\\speech recognition\\nlp_diploma\\asr proto\\asr proto\\venv\\lib\\site-packages\\pandas\\core\\generic.py\u001b[0m in \u001b[0;36mreindex\u001b[1;34m(self, *args, **kwargs)\u001b[0m\n\u001b[0;32m   4816\u001b[0m \u001b[1;33m\u001b[0m\u001b[0m\n\u001b[0;32m   4817\u001b[0m         \u001b[1;31m# perform the reindex on the axes\u001b[0m\u001b[1;33m\u001b[0m\u001b[1;33m\u001b[0m\u001b[1;33m\u001b[0m\u001b[0m\n\u001b[1;32m-> 4818\u001b[1;33m         return self._reindex_axes(\n\u001b[0m\u001b[0;32m   4819\u001b[0m             \u001b[0maxes\u001b[0m\u001b[1;33m,\u001b[0m \u001b[0mlevel\u001b[0m\u001b[1;33m,\u001b[0m \u001b[0mlimit\u001b[0m\u001b[1;33m,\u001b[0m \u001b[0mtolerance\u001b[0m\u001b[1;33m,\u001b[0m \u001b[0mmethod\u001b[0m\u001b[1;33m,\u001b[0m \u001b[0mfill_value\u001b[0m\u001b[1;33m,\u001b[0m \u001b[0mcopy\u001b[0m\u001b[1;33m\u001b[0m\u001b[1;33m\u001b[0m\u001b[0m\n\u001b[0;32m   4820\u001b[0m         ).__finalize__(self, method=\"reindex\")\n",
      "\u001b[1;32md:\\ml\\speech recognition\\nlp_diploma\\asr proto\\asr proto\\venv\\lib\\site-packages\\pandas\\core\\frame.py\u001b[0m in \u001b[0;36m_reindex_axes\u001b[1;34m(self, axes, level, limit, tolerance, method, fill_value, copy)\u001b[0m\n\u001b[0;32m   4595\u001b[0m         \u001b[0mindex\u001b[0m \u001b[1;33m=\u001b[0m \u001b[0maxes\u001b[0m\u001b[1;33m[\u001b[0m\u001b[1;34m\"index\"\u001b[0m\u001b[1;33m]\u001b[0m\u001b[1;33m\u001b[0m\u001b[1;33m\u001b[0m\u001b[0m\n\u001b[0;32m   4596\u001b[0m         \u001b[1;32mif\u001b[0m \u001b[0mindex\u001b[0m \u001b[1;32mis\u001b[0m \u001b[1;32mnot\u001b[0m \u001b[1;32mNone\u001b[0m\u001b[1;33m:\u001b[0m\u001b[1;33m\u001b[0m\u001b[1;33m\u001b[0m\u001b[0m\n\u001b[1;32m-> 4597\u001b[1;33m             frame = frame._reindex_index(\n\u001b[0m\u001b[0;32m   4598\u001b[0m                 \u001b[0mindex\u001b[0m\u001b[1;33m,\u001b[0m \u001b[0mmethod\u001b[0m\u001b[1;33m,\u001b[0m \u001b[0mcopy\u001b[0m\u001b[1;33m,\u001b[0m \u001b[0mlevel\u001b[0m\u001b[1;33m,\u001b[0m \u001b[0mfill_value\u001b[0m\u001b[1;33m,\u001b[0m \u001b[0mlimit\u001b[0m\u001b[1;33m,\u001b[0m \u001b[0mtolerance\u001b[0m\u001b[1;33m\u001b[0m\u001b[1;33m\u001b[0m\u001b[0m\n\u001b[0;32m   4599\u001b[0m             )\n",
      "\u001b[1;32md:\\ml\\speech recognition\\nlp_diploma\\asr proto\\asr proto\\venv\\lib\\site-packages\\pandas\\core\\frame.py\u001b[0m in \u001b[0;36m_reindex_index\u001b[1;34m(self, new_index, method, copy, level, fill_value, limit, tolerance)\u001b[0m\n\u001b[0;32m   4611\u001b[0m         \u001b[0mtolerance\u001b[0m\u001b[1;33m=\u001b[0m\u001b[1;32mNone\u001b[0m\u001b[1;33m,\u001b[0m\u001b[1;33m\u001b[0m\u001b[1;33m\u001b[0m\u001b[0m\n\u001b[0;32m   4612\u001b[0m     ):\n\u001b[1;32m-> 4613\u001b[1;33m         new_index, indexer = self.index.reindex(\n\u001b[0m\u001b[0;32m   4614\u001b[0m             \u001b[0mnew_index\u001b[0m\u001b[1;33m,\u001b[0m \u001b[0mmethod\u001b[0m\u001b[1;33m=\u001b[0m\u001b[0mmethod\u001b[0m\u001b[1;33m,\u001b[0m \u001b[0mlevel\u001b[0m\u001b[1;33m=\u001b[0m\u001b[0mlevel\u001b[0m\u001b[1;33m,\u001b[0m \u001b[0mlimit\u001b[0m\u001b[1;33m=\u001b[0m\u001b[0mlimit\u001b[0m\u001b[1;33m,\u001b[0m \u001b[0mtolerance\u001b[0m\u001b[1;33m=\u001b[0m\u001b[0mtolerance\u001b[0m\u001b[1;33m\u001b[0m\u001b[1;33m\u001b[0m\u001b[0m\n\u001b[0;32m   4615\u001b[0m         )\n",
      "\u001b[1;32md:\\ml\\speech recognition\\nlp_diploma\\asr proto\\asr proto\\venv\\lib\\site-packages\\pandas\\core\\indexes\\base.py\u001b[0m in \u001b[0;36mreindex\u001b[1;34m(self, target, method, level, limit, tolerance)\u001b[0m\n\u001b[0;32m   3823\u001b[0m             \u001b[1;32melse\u001b[0m\u001b[1;33m:\u001b[0m\u001b[1;33m\u001b[0m\u001b[1;33m\u001b[0m\u001b[0m\n\u001b[0;32m   3824\u001b[0m                 \u001b[1;32mif\u001b[0m \u001b[0mself\u001b[0m\u001b[1;33m.\u001b[0m\u001b[0m_index_as_unique\u001b[0m\u001b[1;33m:\u001b[0m\u001b[1;33m\u001b[0m\u001b[1;33m\u001b[0m\u001b[0m\n\u001b[1;32m-> 3825\u001b[1;33m                     indexer = self.get_indexer(\n\u001b[0m\u001b[0;32m   3826\u001b[0m                         \u001b[0mtarget\u001b[0m\u001b[1;33m,\u001b[0m \u001b[0mmethod\u001b[0m\u001b[1;33m=\u001b[0m\u001b[0mmethod\u001b[0m\u001b[1;33m,\u001b[0m \u001b[0mlimit\u001b[0m\u001b[1;33m=\u001b[0m\u001b[0mlimit\u001b[0m\u001b[1;33m,\u001b[0m \u001b[0mtolerance\u001b[0m\u001b[1;33m=\u001b[0m\u001b[0mtolerance\u001b[0m\u001b[1;33m\u001b[0m\u001b[1;33m\u001b[0m\u001b[0m\n\u001b[0;32m   3827\u001b[0m                     )\n",
      "\u001b[1;32md:\\ml\\speech recognition\\nlp_diploma\\asr proto\\asr proto\\venv\\lib\\site-packages\\pandas\\core\\indexes\\base.py\u001b[0m in \u001b[0;36mget_indexer\u001b[1;34m(self, target, method, limit, tolerance)\u001b[0m\n\u001b[0;32m   3484\u001b[0m             )\n\u001b[0;32m   3485\u001b[0m \u001b[1;33m\u001b[0m\u001b[0m\n\u001b[1;32m-> 3486\u001b[1;33m         \u001b[1;32mreturn\u001b[0m \u001b[0mself\u001b[0m\u001b[1;33m.\u001b[0m\u001b[0m_get_indexer\u001b[0m\u001b[1;33m(\u001b[0m\u001b[0mtarget\u001b[0m\u001b[1;33m,\u001b[0m \u001b[0mmethod\u001b[0m\u001b[1;33m,\u001b[0m \u001b[0mlimit\u001b[0m\u001b[1;33m,\u001b[0m \u001b[0mtolerance\u001b[0m\u001b[1;33m)\u001b[0m\u001b[1;33m\u001b[0m\u001b[1;33m\u001b[0m\u001b[0m\n\u001b[0m\u001b[0;32m   3487\u001b[0m \u001b[1;33m\u001b[0m\u001b[0m\n\u001b[0;32m   3488\u001b[0m     def _get_indexer(\n",
      "\u001b[1;32md:\\ml\\speech recognition\\nlp_diploma\\asr proto\\asr proto\\venv\\lib\\site-packages\\pandas\\core\\indexes\\base.py\u001b[0m in \u001b[0;36m_get_indexer\u001b[1;34m(self, target, method, limit, tolerance)\u001b[0m\n\u001b[0;32m   3512\u001b[0m             \u001b[0mindexer\u001b[0m \u001b[1;33m=\u001b[0m \u001b[0mself\u001b[0m\u001b[1;33m.\u001b[0m\u001b[0m_engine\u001b[0m\u001b[1;33m.\u001b[0m\u001b[0mget_indexer\u001b[0m\u001b[1;33m(\u001b[0m\u001b[0mtarget\u001b[0m\u001b[1;33m.\u001b[0m\u001b[0m_get_engine_target\u001b[0m\u001b[1;33m(\u001b[0m\u001b[1;33m)\u001b[0m\u001b[1;33m)\u001b[0m\u001b[1;33m\u001b[0m\u001b[1;33m\u001b[0m\u001b[0m\n\u001b[0;32m   3513\u001b[0m \u001b[1;33m\u001b[0m\u001b[0m\n\u001b[1;32m-> 3514\u001b[1;33m         \u001b[1;32mreturn\u001b[0m \u001b[0mensure_platform_int\u001b[0m\u001b[1;33m(\u001b[0m\u001b[0mindexer\u001b[0m\u001b[1;33m)\u001b[0m\u001b[1;33m\u001b[0m\u001b[1;33m\u001b[0m\u001b[0m\n\u001b[0m\u001b[0;32m   3515\u001b[0m \u001b[1;33m\u001b[0m\u001b[0m\n\u001b[0;32m   3516\u001b[0m     \u001b[1;33m@\u001b[0m\u001b[0mfinal\u001b[0m\u001b[1;33m\u001b[0m\u001b[1;33m\u001b[0m\u001b[0m\n",
      "\u001b[1;31mKeyboardInterrupt\u001b[0m: "
     ]
    }
   ],
   "source": [
    "alphabet = ['а', 'б', 'в', 'г', 'д', 'е', 'ж', 'з', \n",
    "        'и', 'й', 'к', 'л', 'м', 'н', 'о', 'п', \n",
    "        'р', 'с', 'т', 'у', 'ф', 'х', 'ц', 'ч', \n",
    "        'ш', 'щ', 'ь',  'ю', 'я',\n",
    "        'є', 'і', 'ї', 'ґ']\n",
    "emb_copy = embeddings.copy()\n",
    "print(\"Embeddings shape before cleaning:\", emb_copy.shape)\n",
    "idxs = embeddings.index\n",
    "for word in tqdm(idxs):\n",
    "    for c in word:\n",
    "        if c not in alphabet:\n",
    "            emb_copy = emb_copy.drop(word)\n",
    "            break\n",
    "print(\"Embeddings shape after cleaning:\", emb_copy.shape)\n",
    "emb_copy.to_csv(os.path.join(DATA_DIR, \"clean.lowercased.tokenized.word2vec.300d.csv\"))"
   ]
  },
  {
   "cell_type": "code",
   "execution_count": 13,
   "id": "0e70601f-ae57-4188-a4b5-55f3e1c1904a",
   "metadata": {},
   "outputs": [
    {
     "ename": "KeyboardInterrupt",
     "evalue": "",
     "output_type": "error",
     "traceback": [
      "\u001b[1;31m---------------------------------------------------------------------------\u001b[0m",
      "\u001b[1;31mKeyboardInterrupt\u001b[0m                         Traceback (most recent call last)",
      "\u001b[1;32m~\\AppData\\Local\\Temp/ipykernel_10528/4219666190.py\u001b[0m in \u001b[0;36m<module>\u001b[1;34m\u001b[0m\n\u001b[1;32m----> 1\u001b[1;33m \u001b[0memb_copy\u001b[0m\u001b[1;33m.\u001b[0m\u001b[0mto_csv\u001b[0m\u001b[1;33m(\u001b[0m\u001b[0mos\u001b[0m\u001b[1;33m.\u001b[0m\u001b[0mpath\u001b[0m\u001b[1;33m.\u001b[0m\u001b[0mjoin\u001b[0m\u001b[1;33m(\u001b[0m\u001b[0mDATA_DIR\u001b[0m\u001b[1;33m,\u001b[0m \u001b[1;34m\"clean.lowercased.tokenized.word2vec.300d.csv\"\u001b[0m\u001b[1;33m)\u001b[0m\u001b[1;33m)\u001b[0m\u001b[1;33m\u001b[0m\u001b[1;33m\u001b[0m\u001b[0m\n\u001b[0m",
      "\u001b[1;32md:\\ml\\speech recognition\\nlp_diploma\\asr proto\\asr proto\\venv\\lib\\site-packages\\pandas\\core\\generic.py\u001b[0m in \u001b[0;36mto_csv\u001b[1;34m(self, path_or_buf, sep, na_rep, float_format, columns, header, index, index_label, mode, encoding, compression, quoting, quotechar, line_terminator, chunksize, date_format, doublequote, escapechar, decimal, errors, storage_options)\u001b[0m\n\u001b[0;32m   3464\u001b[0m         )\n\u001b[0;32m   3465\u001b[0m \u001b[1;33m\u001b[0m\u001b[0m\n\u001b[1;32m-> 3466\u001b[1;33m         return DataFrameRenderer(formatter).to_csv(\n\u001b[0m\u001b[0;32m   3467\u001b[0m             \u001b[0mpath_or_buf\u001b[0m\u001b[1;33m,\u001b[0m\u001b[1;33m\u001b[0m\u001b[1;33m\u001b[0m\u001b[0m\n\u001b[0;32m   3468\u001b[0m             \u001b[0mline_terminator\u001b[0m\u001b[1;33m=\u001b[0m\u001b[0mline_terminator\u001b[0m\u001b[1;33m,\u001b[0m\u001b[1;33m\u001b[0m\u001b[1;33m\u001b[0m\u001b[0m\n",
      "\u001b[1;32md:\\ml\\speech recognition\\nlp_diploma\\asr proto\\asr proto\\venv\\lib\\site-packages\\pandas\\io\\formats\\format.py\u001b[0m in \u001b[0;36mto_csv\u001b[1;34m(self, path_or_buf, encoding, sep, columns, index_label, mode, compression, quoting, quotechar, line_terminator, chunksize, date_format, doublequote, escapechar, errors, storage_options)\u001b[0m\n\u001b[0;32m   1103\u001b[0m             \u001b[0mformatter\u001b[0m\u001b[1;33m=\u001b[0m\u001b[0mself\u001b[0m\u001b[1;33m.\u001b[0m\u001b[0mfmt\u001b[0m\u001b[1;33m,\u001b[0m\u001b[1;33m\u001b[0m\u001b[1;33m\u001b[0m\u001b[0m\n\u001b[0;32m   1104\u001b[0m         )\n\u001b[1;32m-> 1105\u001b[1;33m         \u001b[0mcsv_formatter\u001b[0m\u001b[1;33m.\u001b[0m\u001b[0msave\u001b[0m\u001b[1;33m(\u001b[0m\u001b[1;33m)\u001b[0m\u001b[1;33m\u001b[0m\u001b[1;33m\u001b[0m\u001b[0m\n\u001b[0m\u001b[0;32m   1106\u001b[0m \u001b[1;33m\u001b[0m\u001b[0m\n\u001b[0;32m   1107\u001b[0m         \u001b[1;32mif\u001b[0m \u001b[0mcreated_buffer\u001b[0m\u001b[1;33m:\u001b[0m\u001b[1;33m\u001b[0m\u001b[1;33m\u001b[0m\u001b[0m\n",
      "\u001b[1;32md:\\ml\\speech recognition\\nlp_diploma\\asr proto\\asr proto\\venv\\lib\\site-packages\\pandas\\io\\formats\\csvs.py\u001b[0m in \u001b[0;36msave\u001b[1;34m(self)\u001b[0m\n\u001b[0;32m    255\u001b[0m             )\n\u001b[0;32m    256\u001b[0m \u001b[1;33m\u001b[0m\u001b[0m\n\u001b[1;32m--> 257\u001b[1;33m             \u001b[0mself\u001b[0m\u001b[1;33m.\u001b[0m\u001b[0m_save\u001b[0m\u001b[1;33m(\u001b[0m\u001b[1;33m)\u001b[0m\u001b[1;33m\u001b[0m\u001b[1;33m\u001b[0m\u001b[0m\n\u001b[0m\u001b[0;32m    258\u001b[0m \u001b[1;33m\u001b[0m\u001b[0m\n\u001b[0;32m    259\u001b[0m     \u001b[1;32mdef\u001b[0m \u001b[0m_save\u001b[0m\u001b[1;33m(\u001b[0m\u001b[0mself\u001b[0m\u001b[1;33m)\u001b[0m \u001b[1;33m->\u001b[0m \u001b[1;32mNone\u001b[0m\u001b[1;33m:\u001b[0m\u001b[1;33m\u001b[0m\u001b[1;33m\u001b[0m\u001b[0m\n",
      "\u001b[1;32md:\\ml\\speech recognition\\nlp_diploma\\asr proto\\asr proto\\venv\\lib\\site-packages\\pandas\\io\\formats\\csvs.py\u001b[0m in \u001b[0;36m_save\u001b[1;34m(self)\u001b[0m\n\u001b[0;32m    260\u001b[0m         \u001b[1;32mif\u001b[0m \u001b[0mself\u001b[0m\u001b[1;33m.\u001b[0m\u001b[0m_need_to_save_header\u001b[0m\u001b[1;33m:\u001b[0m\u001b[1;33m\u001b[0m\u001b[1;33m\u001b[0m\u001b[0m\n\u001b[0;32m    261\u001b[0m             \u001b[0mself\u001b[0m\u001b[1;33m.\u001b[0m\u001b[0m_save_header\u001b[0m\u001b[1;33m(\u001b[0m\u001b[1;33m)\u001b[0m\u001b[1;33m\u001b[0m\u001b[1;33m\u001b[0m\u001b[0m\n\u001b[1;32m--> 262\u001b[1;33m         \u001b[0mself\u001b[0m\u001b[1;33m.\u001b[0m\u001b[0m_save_body\u001b[0m\u001b[1;33m(\u001b[0m\u001b[1;33m)\u001b[0m\u001b[1;33m\u001b[0m\u001b[1;33m\u001b[0m\u001b[0m\n\u001b[0m\u001b[0;32m    263\u001b[0m \u001b[1;33m\u001b[0m\u001b[0m\n\u001b[0;32m    264\u001b[0m     \u001b[1;32mdef\u001b[0m \u001b[0m_save_header\u001b[0m\u001b[1;33m(\u001b[0m\u001b[0mself\u001b[0m\u001b[1;33m)\u001b[0m \u001b[1;33m->\u001b[0m \u001b[1;32mNone\u001b[0m\u001b[1;33m:\u001b[0m\u001b[1;33m\u001b[0m\u001b[1;33m\u001b[0m\u001b[0m\n",
      "\u001b[1;32md:\\ml\\speech recognition\\nlp_diploma\\asr proto\\asr proto\\venv\\lib\\site-packages\\pandas\\io\\formats\\csvs.py\u001b[0m in \u001b[0;36m_save_body\u001b[1;34m(self)\u001b[0m\n\u001b[0;32m    298\u001b[0m             \u001b[1;32mif\u001b[0m \u001b[0mstart_i\u001b[0m \u001b[1;33m>=\u001b[0m \u001b[0mend_i\u001b[0m\u001b[1;33m:\u001b[0m\u001b[1;33m\u001b[0m\u001b[1;33m\u001b[0m\u001b[0m\n\u001b[0;32m    299\u001b[0m                 \u001b[1;32mbreak\u001b[0m\u001b[1;33m\u001b[0m\u001b[1;33m\u001b[0m\u001b[0m\n\u001b[1;32m--> 300\u001b[1;33m             \u001b[0mself\u001b[0m\u001b[1;33m.\u001b[0m\u001b[0m_save_chunk\u001b[0m\u001b[1;33m(\u001b[0m\u001b[0mstart_i\u001b[0m\u001b[1;33m,\u001b[0m \u001b[0mend_i\u001b[0m\u001b[1;33m)\u001b[0m\u001b[1;33m\u001b[0m\u001b[1;33m\u001b[0m\u001b[0m\n\u001b[0m\u001b[0;32m    301\u001b[0m \u001b[1;33m\u001b[0m\u001b[0m\n\u001b[0;32m    302\u001b[0m     \u001b[1;32mdef\u001b[0m \u001b[0m_save_chunk\u001b[0m\u001b[1;33m(\u001b[0m\u001b[0mself\u001b[0m\u001b[1;33m,\u001b[0m \u001b[0mstart_i\u001b[0m\u001b[1;33m:\u001b[0m \u001b[0mint\u001b[0m\u001b[1;33m,\u001b[0m \u001b[0mend_i\u001b[0m\u001b[1;33m:\u001b[0m \u001b[0mint\u001b[0m\u001b[1;33m)\u001b[0m \u001b[1;33m->\u001b[0m \u001b[1;32mNone\u001b[0m\u001b[1;33m:\u001b[0m\u001b[1;33m\u001b[0m\u001b[1;33m\u001b[0m\u001b[0m\n",
      "\u001b[1;32md:\\ml\\speech recognition\\nlp_diploma\\asr proto\\asr proto\\venv\\lib\\site-packages\\pandas\\io\\formats\\csvs.py\u001b[0m in \u001b[0;36m_save_chunk\u001b[1;34m(self, start_i, end_i)\u001b[0m\n\u001b[0;32m    305\u001b[0m         \u001b[0mdf\u001b[0m \u001b[1;33m=\u001b[0m \u001b[0mself\u001b[0m\u001b[1;33m.\u001b[0m\u001b[0mobj\u001b[0m\u001b[1;33m.\u001b[0m\u001b[0miloc\u001b[0m\u001b[1;33m[\u001b[0m\u001b[0mslicer\u001b[0m\u001b[1;33m]\u001b[0m\u001b[1;33m\u001b[0m\u001b[1;33m\u001b[0m\u001b[0m\n\u001b[0;32m    306\u001b[0m \u001b[1;33m\u001b[0m\u001b[0m\n\u001b[1;32m--> 307\u001b[1;33m         \u001b[0mres\u001b[0m \u001b[1;33m=\u001b[0m \u001b[0mdf\u001b[0m\u001b[1;33m.\u001b[0m\u001b[0m_mgr\u001b[0m\u001b[1;33m.\u001b[0m\u001b[0mto_native_types\u001b[0m\u001b[1;33m(\u001b[0m\u001b[1;33m**\u001b[0m\u001b[0mself\u001b[0m\u001b[1;33m.\u001b[0m\u001b[0m_number_format\u001b[0m\u001b[1;33m)\u001b[0m\u001b[1;33m\u001b[0m\u001b[1;33m\u001b[0m\u001b[0m\n\u001b[0m\u001b[0;32m    308\u001b[0m         \u001b[0mdata\u001b[0m \u001b[1;33m=\u001b[0m \u001b[1;33m[\u001b[0m\u001b[0mres\u001b[0m\u001b[1;33m.\u001b[0m\u001b[0miget_values\u001b[0m\u001b[1;33m(\u001b[0m\u001b[0mi\u001b[0m\u001b[1;33m)\u001b[0m \u001b[1;32mfor\u001b[0m \u001b[0mi\u001b[0m \u001b[1;32min\u001b[0m \u001b[0mrange\u001b[0m\u001b[1;33m(\u001b[0m\u001b[0mlen\u001b[0m\u001b[1;33m(\u001b[0m\u001b[0mres\u001b[0m\u001b[1;33m.\u001b[0m\u001b[0mitems\u001b[0m\u001b[1;33m)\u001b[0m\u001b[1;33m)\u001b[0m\u001b[1;33m]\u001b[0m\u001b[1;33m\u001b[0m\u001b[1;33m\u001b[0m\u001b[0m\n\u001b[0;32m    309\u001b[0m \u001b[1;33m\u001b[0m\u001b[0m\n",
      "\u001b[1;32md:\\ml\\speech recognition\\nlp_diploma\\asr proto\\asr proto\\venv\\lib\\site-packages\\pandas\\core\\internals\\managers.py\u001b[0m in \u001b[0;36mto_native_types\u001b[1;34m(self, **kwargs)\u001b[0m\n\u001b[0;32m    464\u001b[0m         \u001b[1;32min\u001b[0m \u001b[0mformatting\u001b[0m \u001b[1;33m(\u001b[0m\u001b[0mrepr\u001b[0m \u001b[1;33m/\u001b[0m \u001b[0mcsv\u001b[0m\u001b[1;33m)\u001b[0m\u001b[1;33m.\u001b[0m\u001b[1;33m\u001b[0m\u001b[1;33m\u001b[0m\u001b[0m\n\u001b[0;32m    465\u001b[0m         \"\"\"\n\u001b[1;32m--> 466\u001b[1;33m         \u001b[1;32mreturn\u001b[0m \u001b[0mself\u001b[0m\u001b[1;33m.\u001b[0m\u001b[0mapply\u001b[0m\u001b[1;33m(\u001b[0m\u001b[1;34m\"to_native_types\"\u001b[0m\u001b[1;33m,\u001b[0m \u001b[1;33m**\u001b[0m\u001b[0mkwargs\u001b[0m\u001b[1;33m)\u001b[0m\u001b[1;33m\u001b[0m\u001b[1;33m\u001b[0m\u001b[0m\n\u001b[0m\u001b[0;32m    467\u001b[0m \u001b[1;33m\u001b[0m\u001b[0m\n\u001b[0;32m    468\u001b[0m     \u001b[1;32mdef\u001b[0m \u001b[0mis_consolidated\u001b[0m\u001b[1;33m(\u001b[0m\u001b[0mself\u001b[0m\u001b[1;33m)\u001b[0m \u001b[1;33m->\u001b[0m \u001b[0mbool\u001b[0m\u001b[1;33m:\u001b[0m\u001b[1;33m\u001b[0m\u001b[1;33m\u001b[0m\u001b[0m\n",
      "\u001b[1;32md:\\ml\\speech recognition\\nlp_diploma\\asr proto\\asr proto\\venv\\lib\\site-packages\\pandas\\core\\internals\\managers.py\u001b[0m in \u001b[0;36mapply\u001b[1;34m(self, f, align_keys, ignore_failures, **kwargs)\u001b[0m\n\u001b[0;32m    325\u001b[0m                     \u001b[0mapplied\u001b[0m \u001b[1;33m=\u001b[0m \u001b[0mb\u001b[0m\u001b[1;33m.\u001b[0m\u001b[0mapply\u001b[0m\u001b[1;33m(\u001b[0m\u001b[0mf\u001b[0m\u001b[1;33m,\u001b[0m \u001b[1;33m**\u001b[0m\u001b[0mkwargs\u001b[0m\u001b[1;33m)\u001b[0m\u001b[1;33m\u001b[0m\u001b[1;33m\u001b[0m\u001b[0m\n\u001b[0;32m    326\u001b[0m                 \u001b[1;32melse\u001b[0m\u001b[1;33m:\u001b[0m\u001b[1;33m\u001b[0m\u001b[1;33m\u001b[0m\u001b[0m\n\u001b[1;32m--> 327\u001b[1;33m                     \u001b[0mapplied\u001b[0m \u001b[1;33m=\u001b[0m \u001b[0mgetattr\u001b[0m\u001b[1;33m(\u001b[0m\u001b[0mb\u001b[0m\u001b[1;33m,\u001b[0m \u001b[0mf\u001b[0m\u001b[1;33m)\u001b[0m\u001b[1;33m(\u001b[0m\u001b[1;33m**\u001b[0m\u001b[0mkwargs\u001b[0m\u001b[1;33m)\u001b[0m\u001b[1;33m\u001b[0m\u001b[1;33m\u001b[0m\u001b[0m\n\u001b[0m\u001b[0;32m    328\u001b[0m             \u001b[1;32mexcept\u001b[0m \u001b[1;33m(\u001b[0m\u001b[0mTypeError\u001b[0m\u001b[1;33m,\u001b[0m \u001b[0mNotImplementedError\u001b[0m\u001b[1;33m)\u001b[0m\u001b[1;33m:\u001b[0m\u001b[1;33m\u001b[0m\u001b[1;33m\u001b[0m\u001b[0m\n\u001b[0;32m    329\u001b[0m                 \u001b[1;32mif\u001b[0m \u001b[1;32mnot\u001b[0m \u001b[0mignore_failures\u001b[0m\u001b[1;33m:\u001b[0m\u001b[1;33m\u001b[0m\u001b[1;33m\u001b[0m\u001b[0m\n",
      "\u001b[1;32md:\\ml\\speech recognition\\nlp_diploma\\asr proto\\asr proto\\venv\\lib\\site-packages\\pandas\\core\\internals\\blocks.py\u001b[0m in \u001b[0;36mto_native_types\u001b[1;34m(self, na_rep, quoting, **kwargs)\u001b[0m\n\u001b[0;32m    640\u001b[0m     \u001b[1;32mdef\u001b[0m \u001b[0mto_native_types\u001b[0m\u001b[1;33m(\u001b[0m\u001b[0mself\u001b[0m\u001b[1;33m,\u001b[0m \u001b[0mna_rep\u001b[0m\u001b[1;33m=\u001b[0m\u001b[1;34m\"nan\"\u001b[0m\u001b[1;33m,\u001b[0m \u001b[0mquoting\u001b[0m\u001b[1;33m=\u001b[0m\u001b[1;32mNone\u001b[0m\u001b[1;33m,\u001b[0m \u001b[1;33m**\u001b[0m\u001b[0mkwargs\u001b[0m\u001b[1;33m)\u001b[0m\u001b[1;33m:\u001b[0m\u001b[1;33m\u001b[0m\u001b[1;33m\u001b[0m\u001b[0m\n\u001b[0;32m    641\u001b[0m         \u001b[1;34m\"\"\"convert to our native types format\"\"\"\u001b[0m\u001b[1;33m\u001b[0m\u001b[1;33m\u001b[0m\u001b[0m\n\u001b[1;32m--> 642\u001b[1;33m         \u001b[0mresult\u001b[0m \u001b[1;33m=\u001b[0m \u001b[0mto_native_types\u001b[0m\u001b[1;33m(\u001b[0m\u001b[0mself\u001b[0m\u001b[1;33m.\u001b[0m\u001b[0mvalues\u001b[0m\u001b[1;33m,\u001b[0m \u001b[0mna_rep\u001b[0m\u001b[1;33m=\u001b[0m\u001b[0mna_rep\u001b[0m\u001b[1;33m,\u001b[0m \u001b[0mquoting\u001b[0m\u001b[1;33m=\u001b[0m\u001b[0mquoting\u001b[0m\u001b[1;33m,\u001b[0m \u001b[1;33m**\u001b[0m\u001b[0mkwargs\u001b[0m\u001b[1;33m)\u001b[0m\u001b[1;33m\u001b[0m\u001b[1;33m\u001b[0m\u001b[0m\n\u001b[0m\u001b[0;32m    643\u001b[0m         \u001b[1;32mreturn\u001b[0m \u001b[0mself\u001b[0m\u001b[1;33m.\u001b[0m\u001b[0mmake_block\u001b[0m\u001b[1;33m(\u001b[0m\u001b[0mresult\u001b[0m\u001b[1;33m)\u001b[0m\u001b[1;33m\u001b[0m\u001b[1;33m\u001b[0m\u001b[0m\n\u001b[0;32m    644\u001b[0m \u001b[1;33m\u001b[0m\u001b[0m\n",
      "\u001b[1;32md:\\ml\\speech recognition\\nlp_diploma\\asr proto\\asr proto\\venv\\lib\\site-packages\\pandas\\core\\internals\\blocks.py\u001b[0m in \u001b[0;36mto_native_types\u001b[1;34m(values, na_rep, quoting, float_format, decimal, **kwargs)\u001b[0m\n\u001b[0;32m   2071\u001b[0m                 \u001b[0mvalues\u001b[0m \u001b[1;33m=\u001b[0m \u001b[0mnp\u001b[0m\u001b[1;33m.\u001b[0m\u001b[0marray\u001b[0m\u001b[1;33m(\u001b[0m\u001b[0mvalues\u001b[0m\u001b[1;33m,\u001b[0m \u001b[0mdtype\u001b[0m\u001b[1;33m=\u001b[0m\u001b[1;34m\"object\"\u001b[0m\u001b[1;33m)\u001b[0m\u001b[1;33m\u001b[0m\u001b[1;33m\u001b[0m\u001b[0m\n\u001b[0;32m   2072\u001b[0m \u001b[1;33m\u001b[0m\u001b[0m\n\u001b[1;32m-> 2073\u001b[1;33m             \u001b[0mvalues\u001b[0m\u001b[1;33m[\u001b[0m\u001b[0mmask\u001b[0m\u001b[1;33m]\u001b[0m \u001b[1;33m=\u001b[0m \u001b[0mna_rep\u001b[0m\u001b[1;33m\u001b[0m\u001b[1;33m\u001b[0m\u001b[0m\n\u001b[0m\u001b[0;32m   2074\u001b[0m             \u001b[0mvalues\u001b[0m \u001b[1;33m=\u001b[0m \u001b[0mvalues\u001b[0m\u001b[1;33m.\u001b[0m\u001b[0mastype\u001b[0m\u001b[1;33m(\u001b[0m\u001b[0mobject\u001b[0m\u001b[1;33m,\u001b[0m \u001b[0mcopy\u001b[0m\u001b[1;33m=\u001b[0m\u001b[1;32mFalse\u001b[0m\u001b[1;33m)\u001b[0m\u001b[1;33m\u001b[0m\u001b[1;33m\u001b[0m\u001b[0m\n\u001b[0;32m   2075\u001b[0m             \u001b[1;32mreturn\u001b[0m \u001b[0mvalues\u001b[0m\u001b[1;33m\u001b[0m\u001b[1;33m\u001b[0m\u001b[0m\n",
      "\u001b[1;31mKeyboardInterrupt\u001b[0m: "
     ]
    }
   ],
   "source": []
  },
  {
   "cell_type": "code",
   "execution_count": 14,
   "id": "00b9cc27-e07f-4cc4-a626-705b146ddc7b",
   "metadata": {},
   "outputs": [
    {
     "data": {
      "text/plain": [
       "False"
      ]
     },
     "execution_count": 14,
     "metadata": {},
     "output_type": "execute_result"
    }
   ],
   "source": [
    "\"компютерні\" in embeddings.index"
   ]
  },
  {
   "cell_type": "code",
   "execution_count": 15,
   "id": "9ab2d48d-b717-4934-82e9-f96b899651cc",
   "metadata": {},
   "outputs": [
    {
     "name": "stdout",
     "output_type": "stream",
     "text": [
      "Result shape: (300, 12)\n",
      "Missed words: []\n"
     ]
    }
   ],
   "source": [
    "def remove_stop_signs(sentence):\n",
    "    stop_signs = string.punctuation + \"–—»«…“”’\"\n",
    "    for sign in stop_signs:\n",
    "        sentence = sentence.replace(sign, \"\")\n",
    "    return sentence\n",
    "    \n",
    "\n",
    "def sentece_to_embeddings(sentence, embs, shape=None):\n",
    "    \"\"\"\n",
    "    shape is a tuple:\n",
    "        first value is an embedding dim\n",
    "        second value is an maximum words dim\n",
    "    \"\"\"\n",
    "    result = None\n",
    "    missed_words = []\n",
    "    sent = sentence.lower()\n",
    "    sent = remove_stop_signs(sent)    \n",
    "    tokens = sent.split()\n",
    "    tokens = tokens.remove(\"\") if \"\" in tokens else tokens\n",
    "    if not shape:\n",
    "        shape = (embs.shape[1], len(tokens))\n",
    "    result = np.zeros(shape)\n",
    "    for idx, word in enumerate(tokens):\n",
    "        if word in embs.index:\n",
    "            result[:, idx] = embs.loc[word]\n",
    "        else:\n",
    "            result[:, idx] = np.zeros(shape[0]) - 10\n",
    "            missed_words.append(word)\n",
    "    return result, missed_words\n",
    "\n",
    "sent_to_embs, missed_words = sentece_to_embeddings(train_df[\"sentence\"].loc[0], embeddings)\n",
    "print(\"Result shape:\", sent_to_embs.shape)\n",
    "print(\"Missed words:\", missed_words)"
   ]
  },
  {
   "cell_type": "code",
   "execution_count": 16,
   "id": "b363b7a8-914d-4d51-b690-3ef2e60803fe",
   "metadata": {},
   "outputs": [
    {
     "name": "stderr",
     "output_type": "stream",
     "text": [
      "100%|███████████████████████████████████████████████████████████████████████████████████████████████████████████████████████████████████████████████████████████████████████████████████████████████| 4035/4035 [00:01<00:00, 3487.71it/s]"
     ]
    },
    {
     "name": "stdout",
     "output_type": "stream",
     "text": [
      "Total missed words 1954\n"
     ]
    },
    {
     "name": "stderr",
     "output_type": "stream",
     "text": [
      "\n"
     ]
    }
   ],
   "source": [
    "missed_words = []\n",
    "for sent in tqdm(train_df[\"sentence\"]):\n",
    "    _, mw = sentece_to_embeddings(sent, embeddings)\n",
    "    missed_words += mw\n",
    "print(f\"Total missed words {len(missed_words)}\")"
   ]
  },
  {
   "cell_type": "code",
   "execution_count": 17,
   "id": "813f246b-d190-47e4-a410-76ff820b3e33",
   "metadata": {},
   "outputs": [
    {
     "name": "stdout",
     "output_type": "stream",
     "text": [
      "чочого\tміжповерхами\tпечалями\tумикну\tкняжно\tзавбiльшки\tриче\tпоплескала\tслаава\tрозбійне\tзаград\tстраши\tострижений\tопрощення\tбють\tпідсидів\tпроговорилися\tзнестями\tгнусяться\tкугутом\tсексуалізований\tожвавився\tоблитого\tпередражнив\tсеребляних\tпятдесят\tбудьякому\tлiсосмуги\tколис\tбабский\tповилуплювали\tсиньожовтий\tнесмачне\tпримолилася\tспять\tженить\tклiпати\tвигризти\tсміяласи\tосвятиться\tбється\tславитьсябо\tобєднань\tсарський\tобєкти\tрiшив\tюдоль\tповідаєш\tклянися\tгрекові\tвузду\tздурити\tбє\tконтурну\tвалентиніанової\tобличителя\tпророблялося\tостой\tкавярні\tогняном\tмаксимиліаном\tпівденносхідної\tтакего\tпята\tмещерки\tінтерєр\tжонити\tзайдь\tрозпашілого\tротику\tвізьміте\tдекоторі\tкіноцитат\tардарік\tмоскалi\tсловіни\tрішимість\tтрусивсь\tсацьких\tзачнете\tзастрашливої\tгоджусь\tясновидин\tкревну\tнаждака\tтягайся\tнежинню\tгречином\tрозтаскувати\tвісімнадесять\tзатрепетав\tпідупалих\tсловянських\tвишато\tвідкупишся\tвтікаєш\tкварті\tпiднесли\tпорусинському\tвгамувалась\tпоробошні\tволошкового\tізяславичі\tкомпаніямпереробникам\tвишаті\tмедовожовтий\tвеликоросові\tоргією\tбратті\tчернегівський\tпсковитян\tболяринеї\tперерито\tцего\tвірій\tщовечiрнi\tвiяло\tзастосованою\tштирьох\tсапфирів\tпіяного\tсвітлоока\tmaace\tячмінем\tнецнота\tужалені\tхчете\tввіруємо\tшесту\tобнюхайтеся\tдодавай\tпердне\tдiрочку\tпотягнімо\tремонтуйте\tкосемен\tякихнебудь\tлже\tпрочинених\tнайлютiше\tмiсяцем\tнайприродніша\tясновиду\tпоїхньому\tсемого\tсмирних\tвєтнамська\tхібас\tоднаке\tавстроугорщину\tвторопавши\tсiдало\tхоромі\tхрестнавхрест\tодмінні\tпогрецькому\tрвачкого\tоборах\tбатию\tдикувату\tзахідню\tказочками\tшвейнiй\tгірничоддбувнйй\tкогонебудь\tгодоєві\tналіжниці\tкухаренковi\tлютім\tразумкову\tпововчому\tрозплутав\tгузно\tдобивай\tстільницю\tдурепi\tкликни\tкоритиймуся\tхчеш\tабразив\tхвальби\tгрузь\tзвавзвав\tобєднує\tпосмакували\tобєктом\tборюкаються\tвсхідні\tодворотзілля\tсудко\tвідбереш\tжупаніце\tгомонячи\tтверю\tутомишся\tнесхибний\tпяними\tпівнях\tборзій\tтуттаки\tпятнадцять\tпростежмо\tміровоєва\tмабути\tміжбрівя\tханжі\tрусичу\tлюбовю\tпродаватиймемо\tгiркими\tмонополізується\tгойдайся\tпідкліть\tнахиливсь\tвишату\tкоротунки\tколіжанку\tкнязьмосковит\tповашому\tзвірився\tвмира\tпiджак\tпосміхнувсь\tцьвичком\tпамятаєте\tвтікаймо\tповорожиш\tтамтим\tлiкарство\tзастуйте\tіносов\tпотакне\tзрадуєшся\tворожиш\tдолягає\tрозiгрiвся\tбережуться\tнадійсь\tчервця\tгуртi\tпосидю\tнеуможне\tморятин\tконсуле\tпяні\tперескоч\tвеликоросійській\tпозаутра\tвиділам\tхрестаті\tгроший\tтеодорікові\tвагавсь\tсікурд\tшитипороти\tтремким\tпiдтягнув\tобєднувала\tпересрав\tзамунж\tоружину\tзатероризували\tімуть\tвикористовуться\tбердинський\tполітаєш\tтивунові\tщебетанні\tсходися\tнапiвлежав\tзаповідачем\tміжнього\tзвихнулися\tрозійдіться\tпереставилася\tхотінням\tболярине\tмонголотатарами\tкрайстеповi\tплемінщині\tзвязати\tщос\tдеревяне\tвсеміжному\tбарєрів\tрадмилою\tобмий\tстережу\tбудьяку\tнайсолодшою\tосмисліть\tзупиняйте\tвiдблиском\tобіруки\tтрансильванців\tпідохотив\tстережімо\tiдучи\tскручуємо\tустиду\tприсьпи\tйойкнула\tсiра\tотрокові\tконовязi\tювеналів\tгатиловідвернувсь\tлаштуючись\tвсеволодовичі\tпотягнете\tвипручалась\tобщєства\tзасiдають\tпроцвітаючи\tнагробком\tочібо\tподубiють\tлахмiттi\tкитайгородським\tбогопомазаний\tмантійний\tсмердючому\tспізнали\tзодкуду\tцитуватиму\tгідробудівництво\tповернену\tворожи\tпомиримось\tпідострожив\tпублічноправовий\tвітчиною\tродупороду\tбатюшцi\tдомажирич\tпохмурiстю\tторочила\tінстинктивна\tпошогод\tвхиливсь\tустраха\tстрішкою\tтатіщева\tпотюпали\tтивуном\tжес\tелектризується\tинчого\tприсунулись\tвхилився\tпопочухаєш\tмяз\tголосисько\tволодимирськосуздальського\tукурений\tрiзноманiтнiсть\tватрушку\tручильно\tвікілла\tпроймаючись\tпереяславліруському\tжонитьби\tгорiхами\tвiдвязав\tпромивалися\tщасливцевому\tзавязку\tтатаромонголами\tприступках\tзiтхали\tборозний\tздоровенною\tвідбрунькувалися\tкличешся\tнебхідності\tхвалебної\tпiдсунув\tкролеві\tавтоцентричність\tзагородиш\tпідписуйтеся\tвелімир\tсеребла\tнадихатись\tсамовладцем\tдолялиходійка\tпризнаєш\tшмагонули\tвопіющого\tсоломяною\tпоспiшно\tпотискає\tісайовичу\tпівліта\tбудьякий\tсудись\tзавязати\tфайної\tнайпущій\tнакипіли\tзбиткуєш\tпостародавньому\tкітці\tоднакий\tпоруському\tдогідні\tстенула\tживотінні\tглуп\tкумпанiю\tтурляєш\tнехристя\tзапечіть\tвитирався\tмоторошній\tпоминається\tмаснім\tмірков\tдвоємислієм\tпалочкоювиручалочкою\tкняжичеві\tрабськи\tпоначищали\tхворобащо\tксьондзе\tмунжами\tгатилів\tчистiй\tкiлком\tзажиє\tсіверь\tфіномордовських\tчервлені\tволаєш\tкрів\tвічеві\tполотці\tстрахаюся\tзапікаємо\tвеликорос\tпомучить\tпростелю\tперевiряє\tпокiнчено\tвдарами\tнапинивши\tодгукнувся\tольбію\tпремєрміністр\tзакінченість\tклиня\tфурмани\tмінімізовували\tвелімира\tгнучись\tскiнчиться\tпотий\tсокриває\tзаскаче\tсперсь\tтулумбасів\tполотку\tукривало\tперестукування\tпросовувалась\tсвердлінням\tургуй\tсвищи\tвовкулако\tвідмітати\tзложиться\tбадьористо\tкороткотерміновішу\tбратуха\tутупилися\tпрехороші\tгреках\tкнязямосковита\tліпшетаки\tзпоміж\tкунами\tпiдбивав\tзайдами\tпоневоления\tсмоо\tвитичівський\tкостричника\tаванпосту\tпамятайте\tодвертому\tвгадувалось\tзастуй\tприготовляють\tлютую\tзапереступали\tпролиґнути\tситеньких\tобiцялинi\tданників\tзамявся\tрозталого\tантивакцинний\tблимнула\tлегковиті\tмiркували\tсвiжокошеного\tламне\tпамяття\tуміцняйте\tвитичеві\tвимислами\tпідписної\tотерпло\tдокруж\tпромовка\tгидотніші\tавгійові\tлінюхуючою\tмармурах\tпорфіророджена\tвидимир\tросяниста\tзаблимала\tнежині\tгнушається\tгребця\tріктиймеш\tзвяжемося\tдругояко\tсікурда\tнаймився\tфактістину\tдержуть\tулiво\tвколи\tослові\tобскуб\tпоробошнях\tсiкається\tлайносайтах\tмовчуна\tбощан\tфіліппіка\tспомагайте\tвеликороса\tтутушній\tоднокiнна\tлюдотиних\tдезінформаційних\tодверзтим\tгетьгеть\tдовба\tінспектуванням\tзводиш\tколежанку\tгудця\tпяту\tмахаєш\tвиючим\tмологу\tінтриганством\tлускаємо\tснітцпаннера\tфабуляризує\tодсвiчуючи\tостервенінням\tтопчеш\tквітного\tповодi\tпереконаймося\tзможенів\tдоспала\tелювіальних\tпосміху\tяркочервонi\tвисиділа\tлюдотою\tщiльно\tгалицьковолинський\tуживану\tсердитіше\tмсту\tмонахпустельник\tвалишевський\tтогос\tмосковитакнязя\tпозасвідома\tдурняімператора\tасимілювала\tбезбороду\tзабуванням\tпотрафлять\tлежеш\tвипинайся\tпухасто\tвсотав\tгрубеньку\tнесусвітня\tрогволоде\tрозумiється\tпоріднити\tбримнуло\tмамаєве\tвавілонський\tшкірив\tнаціоналпатріотизмом\tобєднати\tмовчунові\tректи\tхарю\tперетікального\tошалілого\tтатаромонголам\tгроді\tвмовлянням\tлютішого\tковкістю\tзахіднього\tзвірине\tловища\tмонна\tтетраедру\tпроспівають\tбудьяке\tлукіча\tдядькiв\tобдаруваннями\tгенабума\tзвеличені\tзаклянешся\tбарбоси\tвивідців\tвеликоросійський\tсадвітроград\tпрояснювали\tінвазивність\tсередньоволзької\tподорожнiй\tпосмiшкою\tардаріка\tклянешся\tржавіє\tзіставмо\tготиня\tкарамзіним\tзробилас\tплемінщину\tгруденята\tвкривши\tпятниці\tрозбух\tуселяло\tрозчиненi\tвуйкові\tпобє\tкомпютерні\tзачищав\tсочно\tуречена\tпiймати\tпосвоєму\tшевкала\tсмiялись\tдворушники\tчаєчка\tгейзо\tзречися\tобовязок\tсаням\tбілогородській\tзперед\tпереставлялося\tпятьох\tлютитися\tімено\tфінськотатарським\tвіченькі\tбажаєм\tфости\tбим\tсловянські\tгерманець\tзобовязані\tуреклася\tглупака\tсажнiв\tзастережно\tбезхазяйною\tподовго\tдесi\tпідтакування\tтридцятиденного\tчиркала\tвідбувсь\tопростив\tкротко\tдонжуан\tпожинали\tвсеволодових\tліпшій\tрайоно\tвалль\tлугарський\tробів\tпочувсь\tпрофесорвеликорос\tзвязала\tсмушевим\tприховається\tобвинувальна\tопояс\tпокладітесь\tкотрем\tзамотує\tлужицьким\tремствуєш\tвійтову\tздобний\tвеликодержавна\tнасіпався\tстрашись\tнастовбурчився\tклепало\tкомождого\tрегіонівських\tкахикнувши\tболярська\tпереламне\tзаробітчанського\tпочуттєва\tторжествуючим\tзїдене\tлипнув\tзапорошене\tменгутимур\tшовіністичній\tводограях\tкосметичка\tвеликоросійські\tкостан\tжонукнязівну\tвипнувся\tбориславові\tпідкидалися\tвпокоївшись\tдоким\tтесочку\tготка\tжмени\tгривах\tнарочитим\tнезрадлива\tумикнув\tстомлююча\tвидітиймеш\tвелімирові\tсонники\tфасоля\tгустового\tчистісінькою\tкравчий\tпiдлiз\tгуюком\tземлюм\tстрахітне\tгезде\tкосацьких\tповелівати\tїдну\tхрестатим\tпиздець\tприохотив\tречете\tкрикунам\tдезінформаторів\tздибивши\tбезумцеві\tкухаренком\tстарчик\tполянин\tсартак\tприйшлий\tсмілові\tневісту\tзвідкуду\tжиттяце\tдоскочимо\tпоклянуся\tлежневі\tкрупнiй\tпродерло\tмонжа\tзамявсь\tзаждино\tв\tясновиди\tтогідний\tмерянки\tвосьмитисячником\tнасiдав\tпамятаємо\tдогідливе\tабис\tпотну\tвідчува\tгречники\tвремяних\tвесіля\tтуткаєм\tналивают\tбезмовністю\tшаркові\tвеликоросійським\tбються\tліторій\tосьго\tсахнулась\tустрашають\tморята\tтатаромонголів\tсатьяграху\tвисвячу\tрозпалюсь\tпогукали\tзавдовілася\tтравиченько\tречешся\tнавалам\tхаралуги\tоблуді\tкража\tдубках\tтеремця\tприслемо\tвіднайтися\tнайздібнішим\tруськолитовського\tаннібалова\tтего\tморіжечку\tвеликоросами\tкуєш\tполяквіти\tазурита\tнадцятого\tбригадирова\tзирила\tунего\tхрестатий\tнаричатиймуть\tандою\tхладівой\tцвiркун\tріхтує\tдощатій\tзаревiв\tзамахнувсь\tмстиславичі\tуподібнюйся\tнамислюють\tсякався\tвипорснула\tцаревого\tпокорюсь\tнепідперезаній\tбратового\tзєднаю\tвойславові\tзораній\tвеликоросакнязя\tплемінців\tдавнодавно\tюстаграта\tкрульство\tинша\tпреславних\tнагромаджувався\tзїлам\tпередужуючи\tкостанові\tбезколірні\tвеликоросам\tбогатими\tінєкцій\tозначує\tнєма\tаттілі\tмосковит\tострож\tпідмішувати\tармансон\tархівський\tсолдатамигероями\tмурина\tвельміж\tпримружених\tповеселiшав\tпамятатимеш\tзаженись\tодуром\tскандинавки\tпятами\tпоневоленні\tпівнічносхідна\tсоромив\tбудьякої\tвойславе\tдрімучими\tбогатий\tправійші\tздоровезному\tневихована\tрозмiрене\tкнижчини\tвідставила\tогнян\tхлєбніковський\tрубрука\tзавязував\tкровю\tпочуваннями\tвіншує\tспий\tзобовязаний\tтурицький\tнадобу\tнахилить\tнеметена\tміряєш\tпосправжньому\tкриєшся\tлитовськоукраїнських\tмолотисько\tвтiшань\tчервяк\tприхапцями\tвітрівстрибожичів\tсцяти\tдватри\tздогадом\tвмикну\tзловчився\tіумільова\tзасовом\tпідтемою\tвтну\tпосмуг\tпошепталися\tприворотзілля\tнавспівки\tзвитязтво\tдрiбно\tпрожебоніла\tмечище\tзамонж\tмоскальських\tпоперекує\tзаповідач\tздогадуйтеся\tшарфік\tсолідніша\tштиняє\tзвечору\tкалюжка\tзаздрісного\tкравчого\tрозвязанням\tходь\tкозирковi\tзуперша\tаутфітами\tсловянами\tсамодержавстві\tхмарнi\tполатині\tспишеться\tвоззєднання\tобєктами\tроздяг\tворотаа\tусмиряє\tвсоталося\tгатилом\tсполчити\tчоломкають\tкалмак\tогранені\tрозїв\tбориславовій\tчомунебудь\tопецьок\tстоїменові\tодчув\tоригiнально\tполовик\tбезжурність\tогнянгагні\tрозтуливши\tпознають\tдержися\tдвоматрьома\tвисуватиму\tлугарікосаки\tмордохая\tнайможнішим\tромеєм\tгунською\tупять\tврекласям\tсемій\tтюпав\tвранцiрано\tбездоказове\tзамикалась\tглупавий\tкожушком\tбажайте\tнацьковано\tєутихій\tбисте\tвжем\tнайматись\tказаннях\tпойнявся\tочікуймо\tкнязевіколабораціоністу\tгалицьковолинського\tзагальноканадській\tрекла\tвесільниками\tслівків\tтереньовi\tспівавторам\tмеритократія\tбезпутники\tутішусь\tвеличніша\tзневірям\tбюкенен\tворухнувшись\tнепамять\tскуп\tзвеселило\tустряти\tнахилися\tнiчогенький\tорудуватийме\tтатаромонгольських\tнедружно\tнеприемно\tнарубаєш\tвідвороти\tпоклонітесь\tстрахливець\tсторожець\tтрисідмичника\tпрокліпався\tвідкупили\tфарисейський\tвпівголосу\tгропіі\tвоєві\tтридцятитисячникiв\tпiддався\tвершечкiв\tпозакулiсовий\tвеликоросію\tсміл\tборонися\tувергнуть\tзамирало\tсправлена\tдочекайтесь\tметляти\tбудьхто\tприслухавсь\tвелія\tнайкревні\tгуляща\tростовськосуздальської\tнезнанню\tмiсяцьдва\tбудьякого\tтиліщак\tзатряслась\tвруччя\tтоготаки\tкнязімосковити\tпоруськи\tвалчитися\tзлічіння\tзавпирався\tпожираючий\tзаквітне\tвернетеся\tромановихкобиліних\tпощос\tкнязькавасала\tженитеся\tплінф\tстіймо\tприкушенi\tгречник\tпотягнім\tпрокаджених\tкуємо\tлускаючи\tморятином\tстрикотiв\tвебсторінки\tвідслоненням\tрiзав\tзїсть\tогої\tпрохаєш\tустидно\tкнягининих\tковалдо\tймено\tвречеш\tтодомира\tморзів\tгарбузцями\tардарікові\tбунище\tотруйнішого\tотрова\tсвятославичі\tльвовський\tхимерницею\tобовязковим\tгорбились\tправаволя\tдiлами\tтодоріковим\tдоважку\tучітесь\tясновида\tсікуре\tвеликоросадержавника\tпомовка\tєлісейські\tкостромою\tоружжям\tзобовязує\tподзвониш\tябедник\tдержусь\tтрапезування\tзапечеться\tпримружилася\tпрощеною\tпатинок\tполоткою\tвеликокнязівському\tстояне\tприголубила\tнарочитець\tблагопристойне\tсідлайте\tїдного\tвчуєш\tсловян\tбайкарям\tчухайся\tфіст\tлупиться\tзарiзати\tмердиніс\tзавязала\tзвойовану\tвязання\tцiдить\tглібе\tчаєчковорочаєчко\tскорою\tтебем\tдістать\tобiймали\tможеві\tкресафт\tбоголюбний\tкимося\tсловянського\tбiдарка\tгукнеш\tвправив\tпомайбіг\tдотуду\tхрестата\tархонте\tщосьщоб\tзїж\tприділю\tдоброродного\tмашинцi\tчiпав\tкресафтезасмiявся\tбрюхо\tвигнаниця\tгромадськосі\tзлочинов\tмосковитом\tперетоптану\tзітхать\tохабився\tзрозумітищо\tвклякни\tадаміса\tстукгрюк\tспасайтеся\tхаха\tборусевича\tобовязку\tінєкції\tстатссекретаря\tбраттє\tпонашому\tпомудрагельськи\tсмерде\tврочистим\tґаздинь\tскосував\tвидимира\tтуто\tтягучому\tбулам\tздибало\tсовітував\tвихляють\tгорбисторівнинний\tдовідавсяс\tчубить\tщом\tдюденя\tчїтує\tбрiв\tгеростратова\tкорогодом\tмуромчанки\tдержатийму\tсраці\tорхтехніка\tпохапалися\tспоглядаю\tісторикавеликороса\tречіння\tпридружити\tчернегового\tстепенна\tвтрутивсь\tподайздоров\tсiренька\tджурджа\tспроти\tтовстощокий\tкражу\tвідунові\tніжечку\tходивши\tпідкидалася\tвідповзаючи\tзаративсь\tмагматичний\tкухаренкiв\tукраїнськомовним\tпідстрижену\tсамодурадміністратор\tсоловїні\tчоломкати\tпнисько\tкостана\tздружились\tганагунтера\tзаповзятих\tзлоне\tпохоловши\tзаповивайте\tпрадідові\tвивернутi\tузаутра\tлугарів\tмайстрової\tзаснулас\tщеголіхін\tчотирдесять\tбрехливіші\tлиходіївспадкоємців\tвіроломна\tускоків\tстрахається\tперепуджений\tпоневолювачем\tсімєю\tтiкать\tречемо\tпєтро\tлюбязним\tкоролевий\tвигукну\tзборичів\tодбере\tyспять\tстанцiйному\tчеренце\tприпленталась\tвилущене\tвелійого\tзгідливо\tутлій\tполунічний\tповорушилася\tпозирив\tстеповикам\tбудьякі\tмурут\tгодечане\tакацiї\tпідскочиш\tзаперетить\tповiки\tнеобачної\tпідіймайся\tсарайську\tбайкиоблуди\tвідшила\tнарештітаки\tабиякого\tвіншують\tморзаків\tханськими\tпобуряковiв\tблюдять\tинчих\tпогомони\tделювіальних\tрозкрутіть\tлукуллівський\tродичатися\tскубне\tгодечана\tпрусака\tгрінпісівці\tчасочок\tяролюб\tперебєш\tправимо\tпамятає\tсіври\tлякайсь\tпростякувато\tпівнічносхідні\tстрахаєшся\tпідлизислова\tроздеру\tпридибає\tвесянки\tніколаіч\tмамлiй\tпсе\tкуликовську\tдівочити\tмолитийметься\tзирю\tбудьяка\tпостійнім\tболяринові\tхлопякам\tподвiрї\tвирне\t"
     ]
    }
   ],
   "source": [
    "for i in set(missed_words):\n",
    "    print(i, end=\"\\t\")"
   ]
  },
  {
   "cell_type": "code",
   "execution_count": 18,
   "id": "b68347a0-0509-400d-b491-6739cac6a9c4",
   "metadata": {},
   "outputs": [
    {
     "data": {
      "text/plain": [
       "['a', 'b']"
      ]
     },
     "execution_count": 18,
     "metadata": {},
     "output_type": "execute_result"
    }
   ],
   "source": [
    "a = [\"a\", \"\", \"b\"]\n",
    "\n",
    "a.remove(\"\")\n",
    "a"
   ]
  },
  {
   "cell_type": "code",
   "execution_count": 19,
   "id": "f259d692-aec7-4b97-a861-e00a5a982b8b",
   "metadata": {},
   "outputs": [
    {
     "data": {
      "text/plain": [
       "True"
      ]
     },
     "execution_count": 19,
     "metadata": {},
     "output_type": "execute_result"
    }
   ],
   "source": [
    "a = \"123\"\n",
    "a.isnumeric()"
   ]
  },
  {
   "cell_type": "code",
   "execution_count": 20,
   "id": "d7cb9f0f-b844-4c81-bdb2-d0c62b7b847f",
   "metadata": {},
   "outputs": [
    {
     "data": {
      "text/plain": [
       "'Московитам дозволено створити свою державу а татарам чеченцям – ні Але це – расизм'"
      ]
     },
     "execution_count": 20,
     "metadata": {},
     "output_type": "execute_result"
    }
   ],
   "source": [
    "a = train_df[\"sentence\"].loc[0]\n",
    "\n",
    "for sign in string.punctuation:\n",
    "    a = a.replace(sign, \"\")\n",
    "a"
   ]
  },
  {
   "cell_type": "code",
   "execution_count": 21,
   "id": "f27b0236-27f3-4281-9293-4244521c863c",
   "metadata": {},
   "outputs": [
    {
     "data": {
      "text/plain": [
       "'Московитам дозволено створити свою державу, а татарам, чеченцям – ні? Але це – расизм!'"
      ]
     },
     "execution_count": 21,
     "metadata": {},
     "output_type": "execute_result"
    }
   ],
   "source": [
    "train_df[\"sentence\"].loc[0]"
   ]
  },
  {
   "cell_type": "code",
   "execution_count": 22,
   "id": "f8c5440b-ad4f-4e8f-8e3e-2db07b8d7764",
   "metadata": {},
   "outputs": [
    {
     "data": {
      "text/plain": [
       "'123, 0'"
      ]
     },
     "execution_count": 22,
     "metadata": {},
     "output_type": "execute_result"
    }
   ],
   "source": [
    "a = \"123, 0\"\n",
    "a.replace(\"6\", \"\")"
   ]
  },
  {
   "cell_type": "code",
   "execution_count": 23,
   "id": "4ad81da2-46a1-40af-a664-5a41687e3e09",
   "metadata": {},
   "outputs": [
    {
     "name": "stdout",
     "output_type": "stream",
     "text": [
      "'а', 'б', 'в', 'г', 'д', 'е', 'ж', 'з', 'и', 'й', 'к', 'л', 'м', 'н', 'о', 'п', 'р', 'с', 'т', 'у', 'ф', 'х', 'ц', 'ч', 'ш', 'щ', 'ъ', 'ы', 'ь', 'э', 'ю', 'я', 'є', 'і', 'ї', '', "
     ]
    }
   ],
   "source": [
    "syms = \"\"\"\n",
    "'а',\n",
    " 'б',\n",
    " 'в',\n",
    " 'г',\n",
    " 'д',\n",
    " 'е',\n",
    " 'ж',\n",
    " 'з',\n",
    " 'и',\n",
    " 'й',\n",
    " 'к',\n",
    " 'л',\n",
    " 'м',\n",
    " 'н',\n",
    " 'о',\n",
    " 'п',\n",
    " 'р',\n",
    " 'с',\n",
    " 'т',\n",
    " 'у',\n",
    " 'ф',\n",
    " 'х',\n",
    " 'ц',\n",
    " 'ч',\n",
    " 'ш',\n",
    " 'щ',\n",
    " 'ъ',\n",
    " 'ы',\n",
    " 'ь',\n",
    " 'э',\n",
    " 'ю',\n",
    " 'я',\n",
    " 'є',\n",
    " 'і',\n",
    " 'ї',\n",
    "\"\"\"\n",
    "\n",
    "syms = syms.split(\",\\n\")\n",
    "syms = [c.replace(\"'\", \"\").replace(\" \", \"\").replace(\"\\n\", \"\") for c in syms]\n",
    "for c in syms:\n",
    "    print(f\"'{c}', \", end=\"\")\n",
    "    \n",
    "syms = ['а', 'б', 'в', 'г', 'д', 'е', 'ж', 'з', \n",
    "        'и', 'й', 'к', 'л', 'м', 'н', 'о', 'п', \n",
    "        'р', 'с', 'т', 'у', 'ф', 'х', 'ц', 'ч', \n",
    "        'ш', 'щ', 'ь',  'ю', 'я',\n",
    "        'є', 'і', 'ї', 'ґ']"
   ]
  },
  {
   "cell_type": "code",
   "execution_count": null,
   "id": "dd06c017-55cf-4a5c-9ffa-283acf117273",
   "metadata": {},
   "outputs": [],
   "source": []
  }
 ],
 "metadata": {
  "kernelspec": {
   "display_name": "Python 3 (ipykernel)",
   "language": "python",
   "name": "python3"
  },
  "language_info": {
   "codemirror_mode": {
    "name": "ipython",
    "version": 3
   },
   "file_extension": ".py",
   "mimetype": "text/x-python",
   "name": "python",
   "nbconvert_exporter": "python",
   "pygments_lexer": "ipython3",
   "version": "3.9.2"
  }
 },
 "nbformat": 4,
 "nbformat_minor": 5
}
